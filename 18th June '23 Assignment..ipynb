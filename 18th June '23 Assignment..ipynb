{
 "cells": [
  {
   "cell_type": "code",
   "execution_count": 1,
   "id": "bdd29f2a",
   "metadata": {},
   "outputs": [],
   "source": [
    "#1. What is the role of the 'else' block in a try-except statement? Provide an example\n",
    "#scenario where it would be useful.\n",
    "\n",
    "def safe_divide(num1, num2):\n",
    "    try:\n",
    "        result = num1 / num2\n",
    "    except ZeroDivisionError:\n",
    "        print(\"Cannot divide by zero.\")\n",
    "    except ValueError:\n",
    "        print(\"Invalid input. Please enter valid numbers.\")\n",
    "    else:\n",
    "        print(\"Division successful. Result:\", result)"
   ]
  },
  {
   "cell_type": "code",
   "execution_count": 3,
   "id": "563a5190",
   "metadata": {},
   "outputs": [
    {
     "name": "stdout",
     "output_type": "stream",
     "text": [
      "Division successful. Result: 1.0\n"
     ]
    }
   ],
   "source": [
    "safe_divide(5,5)"
   ]
  },
  {
   "cell_type": "code",
   "execution_count": 5,
   "id": "a0e8b5dc",
   "metadata": {},
   "outputs": [
    {
     "name": "stdout",
     "output_type": "stream",
     "text": [
      "enyter a numerator5\n",
      "enter a dem0\n",
      "cant be divide by zero\n"
     ]
    }
   ],
   "source": [
    "#2. Can a try-except block be nested inside another try-except block? Explain with an example.\n",
    "try:\n",
    "    num=int(input(\"enyter a numerator\"))\n",
    "    try:\n",
    "        dem=int(input(\"enter a dem\"))\n",
    "        result=num/dem\n",
    "        \n",
    "    except ZeroDivisionError:\n",
    "        print(\"cant be divide by zero\")\n",
    "    except ValueError:\n",
    "        print(\"invalid input for dem\")\n",
    "except ValueError:\n",
    "    print(\"invalid input for num\")\n",
    "        "
   ]
  },
  {
   "cell_type": "code",
   "execution_count": 8,
   "id": "71be6d4d",
   "metadata": {
    "scrolled": true
   },
   "outputs": [
    {
     "ename": "NameError",
     "evalue": "name 'CustomError' is not defined",
     "output_type": "error",
     "traceback": [
      "\u001b[1;31m---------------------------------------------------------------------------\u001b[0m",
      "\u001b[1;31mNameError\u001b[0m                                 Traceback (most recent call last)",
      "Cell \u001b[1;32mIn[8], line 12\u001b[0m\n\u001b[0;32m      9\u001b[0m     \u001b[38;5;28;01mif\u001b[39;00m value \u001b[38;5;241m<\u001b[39m \u001b[38;5;241m0\u001b[39m:\n\u001b[0;32m     10\u001b[0m         \u001b[38;5;28;01mraise\u001b[39;00m CustomError(\u001b[38;5;124m\"\u001b[39m\u001b[38;5;124mInvalid input: Value must be a non-negative integer.\u001b[39m\u001b[38;5;124m\"\u001b[39m)\n\u001b[1;32m---> 12\u001b[0m \u001b[43mvalidate_input\u001b[49m\u001b[43m(\u001b[49m\u001b[38;5;241;43m-\u001b[39;49m\u001b[38;5;241;43m5\u001b[39;49m\u001b[43m)\u001b[49m\n",
      "Cell \u001b[1;32mIn[8], line 10\u001b[0m, in \u001b[0;36mvalidate_input\u001b[1;34m(value)\u001b[0m\n\u001b[0;32m      8\u001b[0m     \u001b[38;5;28;01mraise\u001b[39;00m CustomError(\u001b[38;5;124m\"\u001b[39m\u001b[38;5;124mInvalid input: Value must be an integer.\u001b[39m\u001b[38;5;124m\"\u001b[39m)\n\u001b[0;32m      9\u001b[0m \u001b[38;5;28;01mif\u001b[39;00m value \u001b[38;5;241m<\u001b[39m \u001b[38;5;241m0\u001b[39m:\n\u001b[1;32m---> 10\u001b[0m     \u001b[38;5;28;01mraise\u001b[39;00m \u001b[43mCustomError\u001b[49m(\u001b[38;5;124m\"\u001b[39m\u001b[38;5;124mInvalid input: Value must be a non-negative integer.\u001b[39m\u001b[38;5;124m\"\u001b[39m)\n",
      "\u001b[1;31mNameError\u001b[0m: name 'CustomError' is not defined"
     ]
    }
   ],
   "source": [
    "#3. How can you create a custom exception class in Python? Provide an example that\n",
    "#demonstrates its usage.\n",
    "\n",
    "#Demonstrating the Usage of Custom Exception:\n",
    "\n",
    "def validate_input(value):\n",
    "    if not isinstance(value, int):\n",
    "        raise CustomError(\"Invalid input: Value must be an integer.\")\n",
    "    if value < 0:\n",
    "        raise CustomError(\"Invalid input: Value must be a non-negative integer.\")\n",
    "        \n",
    "validate_input(-5)\n",
    "        "
   ]
  },
  {
   "cell_type": "code",
   "execution_count": null,
   "id": "ff6025bd",
   "metadata": {},
   "outputs": [],
   "source": [
    "#4. What are some common exceptions that are built-in to Python?\n",
    "Some of the common built-in exceptions in Python include:\n",
    "\n",
    "SyntaxError: Raised when there is a syntax error in the code, indicating a mistake in the program's structure.\n",
    "\n",
    "IndentationError: Subclass of SyntaxError, raised when there is incorrect indentation in the code.\n",
    "\n",
    "NameError: Raised when a local or global name is not found. This occurs when a variable is referenced before it has been assigned a value.\n",
    "\n",
    "TypeError: Raised when an operation is performed on an object of inappropriate type.\n",
    "\n",
    "ValueError: Raised when a function receives an argument of the correct type, but with an invalid value."
   ]
  },
  {
   "cell_type": "code",
   "execution_count": null,
   "id": "85a5b9c1",
   "metadata": {},
   "outputs": [],
   "source": [
    "#5. What is logging in Python, and why is it important in software development?\n",
    "Logging in Python:\n",
    "\n",
    "Logging in Python is the process of recording messages during the execution of a program to provide a detailed record of events, actions, and errors. Python provides a built-in logging module that allows developers to create loggers, handlers, and formatters to capture and store log information.\n",
    "\n",
    "Why Logging is Important in Software Development:\n",
    "\n",
    "Logging is crucial in software development for several reasons:\n",
    "\n",
    "Debugging and Troubleshooting: When errors or unexpected behavior occur, logs provide valuable information about the state of the program, allowing developers to identify issues quickly and debug effectively.\n",
    "\n",
    "Monitoring: In production environments, applications run without direct user interaction. Logs help monitor the application's behavior, performance, and potential errors without disrupting the end-users' experience.\n",
    "\n",
    "Error Analysis: Logs capture detailed information about errors, exceptions, and stack traces. This data is invaluable for identifying the root cause of issues, enabling developers to fix problems and improve the software's stability.\n",
    "\n",
    "Performance Optimization: By logging timestamps and other relevant metrics, developers can analyze performance bottlenecks and optimize the code, leading to a more efficient application.\n",
    "\n",
    "\n",
    "\n",
    "\n"
   ]
  },
  {
   "cell_type": "code",
   "execution_count": null,
   "id": "46b48d81",
   "metadata": {},
   "outputs": [],
   "source": [
    "#6. Explain the purpose of log levels in Python logging and provide examples of when\n",
    "#each log level would be appropriate.\n",
    "import logging\n",
    "logging.debug(\"This is a debug message\")\n",
    "DEBUG: Detailed information, typically used for diagnosing problems during development and debugging.\n",
    "    These messages are useful for tracing the flow of the program and inspecting variable values.\n",
    "    \n",
    "    \n",
    "import logging\n",
    "logging.info(\"This is an info message\")\n",
    "INFO: Confirmation that things are working as expected.\n",
    "    These messages provide general information about the applications operation and are useful for tracking the programs behavior.  \n",
    "    \n",
    "    \n",
    "WARNING: An indication that something unexpected happened or an issue that might need attention in the near future.\n",
    "    The application can continue running normally.\n",
    "import logging\n",
    "logging.warning(\"This is a warning message\")\n",
    "\n",
    "\n",
    "\n",
    "ERROR: A more serious issue that prevents the application from performing a specific function. \n",
    "    The application's functionality might be compromised, but it can still continue to run.\n",
    "import logging\n",
    "logging.error(\"This is an error message\")\n",
    "\n",
    "\n",
    "CRITICAL: A critical error that leads to a failure of the application. \n",
    "    The program cannot continue to run and might need intervention or termination.\n",
    "import logging\n",
    "logging.critical(\"This is a critical message\")\n",
    "\n"
   ]
  },
  {
   "cell_type": "code",
   "execution_count": null,
   "id": "7878efef",
   "metadata": {},
   "outputs": [],
   "source": [
    "#8. How can you set up logging to capture log messages from multiple modules or\n",
    "#classes in a Python application?\n",
    "Setting up logging to capture log messages from multiple modules or classes in a Python application \n",
    "involves creating a central configuration for logging and then accessing this configuration across different modules or classes\n",
    "\n",
    "\n"
   ]
  },
  {
   "cell_type": "code",
   "execution_count": 9,
   "id": "bb9968d2",
   "metadata": {},
   "outputs": [],
   "source": [
    "import logging\n",
    "import logging.config\n",
    "\n",
    "# Define logging configuration as a dictionary\n",
    "logging_config = {\n",
    "    'version': 1,\n",
    "    'formatters': {\n",
    "        'verbose': {\n",
    "            'format': '%(asctime)s - %(name)s - %(levelname)s - %(message)s'\n",
    "        },\n",
    "    },\n",
    "    'handlers': {\n",
    "        'console': {\n",
    "            'level': 'DEBUG',\n",
    "            'class': 'logging.StreamHandler',\n",
    "            'formatter': 'verbose',\n",
    "        },\n",
    "        # Add more handlers if needed (e.g., file handler)\n",
    "    },\n",
    "    'root': {\n",
    "        'handlers': ['console'],\n",
    "        'level': 'DEBUG',\n",
    "    },\n",
    "}\n",
    "\n",
    "# Configure logging using the configuration dictionary\n",
    "logging.config.dictConfig(logging_config)\n",
    "\n",
    "# Example of setting up a logger in the main application module\n",
    "# logger = logging.getLogger(__name__)\n"
   ]
  },
  {
   "cell_type": "code",
   "execution_count": null,
   "id": "15254849",
   "metadata": {},
   "outputs": [],
   "source": [
    "#9. What is the difference between the logging and print statements in Python? When\n",
    "#should you use logging over print statements in a real-world application?\n",
    "\n",
    "Print Statements: Output is sent to the standard output (usually the console or terminal).\n",
    "Logging: Output can be sent to various destinations, including the console, files, network services, and more. Logging provides more flexibility in handling log messages.\n",
    "    \n",
    "    \n",
    "Severity Levels:\n",
    "Print Statements: There are no severity levels; all print statements are equal.\n",
    "Logging: Supports different severity levels (DEBUG, INFO, WARNING, ERROR, CRITICAL) to categorize log messages based on their importance. This allows developers to control the verbosity of log output\n",
    "    \n",
    "    \n",
    "Configuration:\n",
    "\n",
    "Print Statements: No built-in way to enable/disable or customize output globally.\n",
    "Logging: Allows centralized configuration. Logging can be configured globally, allowing developers to control log levels and output destinations without modifying individual log statements.\n",
    "    \n",
    "    \n",
    "Error Handling:\n",
    "\n",
    "Print Statements: Do not provide detailed error information, making it challenging to diagnose issues.\n",
    "Logging: Allows capturing detailed error messages, including stack traces, making it easier to identify the source of errors.\n",
    "    "
   ]
  },
  {
   "cell_type": "code",
   "execution_count": null,
   "id": "13da0c80",
   "metadata": {},
   "outputs": [],
   "source": [
    "#10. Write a Python program that logs a message to a file named \"app.log\" with the\n",
    "#following requirements:\n",
    "● The log message should be \"Hello, World!\"\n",
    "● The log level should be set to \"INFO.\"\n",
    "● The log file should append new log entries without overwriting previous ones."
   ]
  },
  {
   "cell_type": "code",
   "execution_count": 10,
   "id": "e20dcef8",
   "metadata": {},
   "outputs": [
    {
     "name": "stderr",
     "output_type": "stream",
     "text": [
      "2023-10-24 11:59:27,130 - root - INFO - Hello, World!\n",
      "2023-10-24 11:59:27,134 - root - INFO - This is another log message.\n"
     ]
    },
    {
     "name": "stdout",
     "output_type": "stream",
     "text": [
      "Log message has been written to app.log file.\n"
     ]
    }
   ],
   "source": [
    "import logging\n",
    "logging.basicConfig(filename='app.log',level=logging.INFO,format='%(asctime)s -%(levelname)s -%(messages)s')\n",
    "logging.info('Hello, World!')\n",
    "logging.info('This is another log message.')\n",
    "print('Log message has been written to app.log file.')\n"
   ]
  },
  {
   "cell_type": "code",
   "execution_count": 16,
   "id": "d489e15e",
   "metadata": {},
   "outputs": [
    {
     "name": "stderr",
     "output_type": "stream",
     "text": [
      "2023-10-24 12:07:06,534 - root - ERROR - exception type: ZeroDivisionError-Exception message division by zero\n"
     ]
    }
   ],
   "source": [
    "#Create a Python program that logs an error message to the console and a file named\n",
    "#\"errors.log\" if an exception occurs during the programs execution. The error\n",
    "#message should include the exception type and a timestamp.\n",
    "\n",
    "\n",
    "import logging\n",
    "import sys\n",
    "import traceback\n",
    "\n",
    "logging.basicConfig(level=logging.ERROR,format='%(asctime)s - %(levelname)s',filename='errors.log')\n",
    "\n",
    "try:\n",
    "    result=10/0\n",
    "except Exception as e:\n",
    "    logging.error(f\"exception type: {type(e).__name__}-Exception message {str(e)}\")\n"
   ]
  }
 ],
 "metadata": {
  "kernelspec": {
   "display_name": "Python 3 (ipykernel)",
   "language": "python",
   "name": "python3"
  },
  "language_info": {
   "codemirror_mode": {
    "name": "ipython",
    "version": 3
   },
   "file_extension": ".py",
   "mimetype": "text/x-python",
   "name": "python",
   "nbconvert_exporter": "python",
   "pygments_lexer": "ipython3",
   "version": "3.8.13"
  }
 },
 "nbformat": 4,
 "nbformat_minor": 5
}
