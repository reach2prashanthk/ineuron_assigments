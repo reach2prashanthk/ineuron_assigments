{
 "cells": [
  {
   "cell_type": "code",
   "execution_count": null,
   "id": "76887024",
   "metadata": {},
   "outputs": [],
   "source": [
    "#1. What is the role of try and exception block?\n",
    "the try and except blocks are used to handle exceptions, which are unexpected events or errors that can occur during the execution of a program. The try block contains the code that might raise an exception, \n",
    "and the except block contains the code that handles the exception if it occurs."
   ]
  },
  {
   "cell_type": "code",
   "execution_count": 4,
   "id": "c2ea25a7",
   "metadata": {},
   "outputs": [
    {
     "name": "stdout",
     "output_type": "stream",
     "text": [
      "Cannot divide by zero!\n"
     ]
    }
   ],
   "source": [
    "#ex:\n",
    "try:\n",
    "    # Code that might raise an exception\n",
    "    result = 10 / 0  # This will raise a ZeroDivisionError\n",
    "except ZeroDivisionError:\n",
    "    # Code to handle the ZeroDivisionError\n",
    "    print(\"Cannot divide by zero!\")\n"
   ]
  },
  {
   "cell_type": "code",
   "execution_count": null,
   "id": "90a8effa",
   "metadata": {},
   "outputs": [],
   "source": [
    "2. What is the syntax for a basic try-except block?\n",
    "try:\n",
    "    # Code that might raise an exception\n",
    "    # ...\n",
    "except ExceptionType:\n",
    "    # Code to handle the specific exception (ExceptionType)\n",
    "    # ...\n"
   ]
  },
  {
   "cell_type": "code",
   "execution_count": 5,
   "id": "c0394ce3",
   "metadata": {},
   "outputs": [
    {
     "ename": "ZeroDivisionError",
     "evalue": "division by zero",
     "output_type": "error",
     "traceback": [
      "\u001b[1;31m---------------------------------------------------------------------------\u001b[0m",
      "\u001b[1;31mZeroDivisionError\u001b[0m                         Traceback (most recent call last)",
      "Cell \u001b[1;32mIn[5], line 7\u001b[0m\n\u001b[0;32m      1\u001b[0m \u001b[38;5;66;03m#3. What happens if an exception occurs inside a try block and there is no matching\u001b[39;00m\n\u001b[0;32m      2\u001b[0m \u001b[38;5;66;03m#except block?\u001b[39;00m\n\u001b[0;32m      3\u001b[0m \u001b[38;5;66;03m#ans: If an exception occurs inside a try block and there is no matching except block to handle that specific type of exception, \u001b[39;00m\n\u001b[0;32m      4\u001b[0m     \u001b[38;5;66;03m#the program will terminate, and an error message will be displayed\u001b[39;00m\n\u001b[0;32m      6\u001b[0m \u001b[38;5;28;01mtry\u001b[39;00m:\n\u001b[1;32m----> 7\u001b[0m     result \u001b[38;5;241m=\u001b[39m \u001b[38;5;241;43m10\u001b[39;49m\u001b[43m \u001b[49m\u001b[38;5;241;43m/\u001b[39;49m\u001b[43m \u001b[49m\u001b[38;5;241;43m0\u001b[39;49m  \u001b[38;5;66;03m# This will raise a ZeroDivisionError\u001b[39;00m\n\u001b[0;32m      8\u001b[0m \u001b[38;5;28;01mexcept\u001b[39;00m \u001b[38;5;167;01mValueError\u001b[39;00m:\n\u001b[0;32m      9\u001b[0m     \u001b[38;5;28mprint\u001b[39m(\u001b[38;5;124m\"\u001b[39m\u001b[38;5;124mThis will not be executed since there is no matching except block for ZeroDivisionError.\u001b[39m\u001b[38;5;124m\"\u001b[39m)\n",
      "\u001b[1;31mZeroDivisionError\u001b[0m: division by zero"
     ]
    }
   ],
   "source": [
    "#3. What happens if an exception occurs inside a try block and there is no matching\n",
    "#except block?\n",
    "#ans: If an exception occurs inside a try block and there is no matching except block to handle that specific type of exception, \n",
    "    #the program will terminate, and an error message will be displayed\n",
    "    \n",
    "try:\n",
    "    result = 10 / 0  # This will raise a ZeroDivisionError\n",
    "except ValueError:\n",
    "    print(\"This will not be executed since there is no matching except block for ZeroDivisionError.\")\n"
   ]
  },
  {
   "cell_type": "code",
   "execution_count": 6,
   "id": "0076a5a0",
   "metadata": {
    "scrolled": true
   },
   "outputs": [
    {
     "ename": "IndentationError",
     "evalue": "expected an indented block (1240083206.py, line 5)",
     "output_type": "error",
     "traceback": [
      "\u001b[1;36m  Cell \u001b[1;32mIn[6], line 5\u001b[1;36m\u001b[0m\n\u001b[1;33m    except SpecificExceptionType:\u001b[0m\n\u001b[1;37m    ^\u001b[0m\n\u001b[1;31mIndentationError\u001b[0m\u001b[1;31m:\u001b[0m expected an indented block\n"
     ]
    }
   ],
   "source": [
    "#4. What is the difference between using a bare except block and specifying a specific exception type?\n",
    "\n",
    "try:\n",
    "    # Code that might raise a specific exception\n",
    "except SpecificExceptionType:\n",
    "    \n",
    "    # Code to handle SpecificExceptionType\n",
    "    \n",
    "#When you specify a specific exception type (e.g., except ValueError:), the except block catches only that particular type of exception\n",
    ". #It ignores all other exceptions that might occur in the try block.\n",
    "#Bare except Block:\n",
    "\n",
    "\n",
    "try:\n",
    "    # Code that might raise an exception\n",
    "except:\n",
    "    # Code to handle any exception\n",
    "\n",
    "    \n",
    "#When you use a bare except block (without specifying any exception type), it catches all exceptions that occur in the try block.\n",
    "#This includes built-in exceptions like ValueError, TypeError, ZeroDivisionError, as well as custom exceptions and system exceptions."
   ]
  },
  {
   "cell_type": "code",
   "execution_count": 18,
   "id": "71b15d7a",
   "metadata": {},
   "outputs": [
    {
     "name": "stdout",
     "output_type": "stream",
     "text": [
      "enter a number:8\n",
      "enter a index to access the element within tht index:2\n",
      " entered number's index is  3\n"
     ]
    }
   ],
   "source": [
    "#5. Can you have nested try-except blocks in Python? If yes, then give an example.\n",
    "try:\n",
    "    number=int(input(\"enter a number:\"))\n",
    "    result=10/number\n",
    "    \n",
    "    try:\n",
    "        index=int(input('enter a index to access the element within tht index:'))\n",
    "        number1=[1,2,3,4]\n",
    "        print(\" entered number's index is \",number1[index])\n",
    "\n",
    "    except IndexError:\n",
    "        print(\" entered number is out of range:\")\n",
    "except ValueError:\n",
    "    print(\"enter proper value\")\n",
    "    \n",
    "except ZeroDivisionError:\n",
    "    print(\"cant divide by zero:\")\n",
    "    \n",
    "    \n",
    "    "
   ]
  },
  {
   "cell_type": "code",
   "execution_count": null,
   "id": "6332d43b",
   "metadata": {},
   "outputs": [],
   "source": [
    "#6. Can we use multiple exception blocks, if yes then give an example.\n",
    "7. Write the reason due to which following errors are raised:\n",
    "a. EOFError\n",
    "b. FloatingPointError\n",
    "c. IndexError\n",
    "d. MemoryError\n",
    "e. OverflowError\n",
    "f. TabError\n",
    "g. ValueError\n",
    "\n",
    "\n",
    "a. EOFError:\n",
    "Reason: An EOFError (End of File Error) is raised when an input operation (like input() in Python) reaches the end of the file, but no data is found. \n",
    "    This error typically occurs when the user hits the end-of-file (EOF) marker, indicating the end of the input stream, but the program expects more input.\n",
    "\n",
    "b. FloatingPointError:\n",
    "Reason: A FloatingPointError is raised when a floating-point operation fails. \n",
    "    This can occur during arithmetic operations involving floating-point numbers, such as division by zero or an operation resulting in an undefined or unrepresentable value.\n",
    "\n",
    "c. IndexError:\n",
    "Reason: An IndexError is raised when you try to access an index in a sequence \n",
    "    (like a list or a string) that doesnt exist. For example, trying to access an element at an index that is outside the bounds of the list will result in an IndexError.\n",
    "\n",
    "d. MemoryError:\n",
    "Reason: A MemoryError is raised when an operation runs out of memory. \n",
    "    This typically occurs when the system has insufficient memory to allocate for a new object or operation, such as creating a large list or performing a memory-intensive computation.\n",
    "\n",
    "e. OverflowError:\n",
    "Reason: An OverflowError is raised when an arithmetic operation exceeds the limits of the numerictype,\n",
    "    resulting in a value that is too large to be represented. For example, attempting to calculate an extremely large factorial can lead to an OverflowError.\n",
    "\n",
    "f. TabError:\n",
    "Reason: A TabError is raised when inconsistent use of tabs and spaces is encountered in indentation.\n",
    "    Python expects consistent indentation to define blocks of code, and a TabError occurs if the mixing of tabs and spaces is not consistent within the same block.\n",
    "\n",
    "g. ValueError:\n",
    "Reason: A ValueError is raised when a function receives an argument of the correct data type, but with an invalid value. For instance, trying to convert a string to an integer using int(\"abc\") results in a ValueError because \"abc\" cannot be interpreted as a valid integer.\n",
    "\n",
    "Understanding these errors helps in writing robust code. Proper input validation and handling of these errors enhance the stability and reliability of Python programs.\n",
    "\n",
    "\n",
    "\n",
    "\n",
    "\n"
   ]
  },
  {
   "cell_type": "code",
   "execution_count": null,
   "id": "ee4cbbd0",
   "metadata": {},
   "outputs": [],
   "source": [
    "#8. Write code for the following given scenario and add try-exception block to it.\n",
    "\n",
    "8. Write code for the following given scenario and add try-exception block to it.\n",
    "a. Program to divide two numbers\n",
    "b. Program to convert a string to an integer\n",
    "c. Program to access an element in a list\n",
    "d. Program to handle a specific exception\n",
    "e. Program to handle any exception"
   ]
  },
  {
   "cell_type": "code",
   "execution_count": null,
   "id": "c72bc4f0",
   "metadata": {},
   "outputs": [],
   "source": []
  },
  {
   "cell_type": "code",
   "execution_count": 24,
   "id": "1a3c646d",
   "metadata": {},
   "outputs": [
    {
     "name": "stdout",
     "output_type": "stream",
     "text": [
      "enter first number:t\n",
      "strings cant be accepted\n"
     ]
    }
   ],
   "source": [
    "try:\n",
    "    num1=int(input(\"enter first number:\"))\n",
    "    num2=int(input(\"enter second number:\"))\n",
    "    result=num1/num2\n",
    "    print(\"division result is \", result)\n",
    "             \n",
    "except ZeroDivisionError:\n",
    "             print(\"cant divide by zero\")\n",
    "except ValueError:\n",
    "             print(\"strings cant be accepted\")\n",
    "             \n",
    "             "
   ]
  },
  {
   "cell_type": "code",
   "execution_count": 27,
   "id": "24b82ab4",
   "metadata": {},
   "outputs": [
    {
     "name": "stdout",
     "output_type": "stream",
     "text": [
      "please enter string number:f\n",
      "invalid inputplease enter valid integer\n"
     ]
    }
   ],
   "source": [
    "try:\n",
    "    str1=input(\"please enter string number:\")\n",
    "    result=int(str1)\n",
    "    print(\"the converted string to int is :\", result)\n",
    "except ValueError:\n",
    "    print(\"invalid inputplease enter valid integer\")\n",
    "    "
   ]
  },
  {
   "cell_type": "code",
   "execution_count": 29,
   "id": "b095fcb8",
   "metadata": {},
   "outputs": [
    {
     "name": "stdout",
     "output_type": "stream",
     "text": [
      "please enter a index to access element6\n",
      "the value enetered is out of index\n"
     ]
    }
   ],
   "source": [
    "l1=[1,2,3,4,5]\n",
    "try:\n",
    "    index=int(input(\"please enter a index to access element\"))\n",
    "    print(\"the number in the entered index is\",l1[index])\n",
    "except IndexError:\n",
    "    print(\"the value enetered is out of index\")\n"
   ]
  },
  {
   "cell_type": "code",
   "execution_count": 34,
   "id": "dc2f0f9e",
   "metadata": {},
   "outputs": [
    {
     "name": "stdout",
     "output_type": "stream",
     "text": [
      "please entyer a positive numberi\n",
      "error invalid literal for int() with base 10: 'i'\n"
     ]
    }
   ],
   "source": [
    "try:\n",
    "    num1=int(input(\"please entyer a positive number\"))\n",
    "    if num1<0:\n",
    "        raise ValueError(\"number must be postive\")\n",
    "            \n",
    "            \n",
    "            \n",
    "except Exception as e:\n",
    "    print(\"error\",e)"
   ]
  },
  {
   "cell_type": "code",
   "execution_count": null,
   "id": "e7cde481",
   "metadata": {},
   "outputs": [],
   "source": [
    "#e. Program to Handle Any Exception:\n",
    "# Scenario: Program to handle any exception\n",
    "try:\n",
    "    # Code that might raise any exception\n",
    "    result = 10 / 0  # This will raise a ZeroDivisionError\n",
    "except Exception as e:\n",
    "    print(\"An error occurred:\", e)\n",
    "\n"
   ]
  }
 ],
 "metadata": {
  "kernelspec": {
   "display_name": "Python 3 (ipykernel)",
   "language": "python",
   "name": "python3"
  },
  "language_info": {
   "codemirror_mode": {
    "name": "ipython",
    "version": 3
   },
   "file_extension": ".py",
   "mimetype": "text/x-python",
   "name": "python",
   "nbconvert_exporter": "python",
   "pygments_lexer": "ipython3",
   "version": "3.8.13"
  }
 },
 "nbformat": 4,
 "nbformat_minor": 5
}
