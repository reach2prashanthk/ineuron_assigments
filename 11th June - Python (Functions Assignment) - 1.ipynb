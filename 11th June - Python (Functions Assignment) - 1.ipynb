{
 "cells": [
  {
   "cell_type": "raw",
   "id": "8f276936",
   "metadata": {},
   "source": [
    "#1. What is a lambda function in Python, and how does it differ from a regular function?\n",
    "\n",
    "Ans: Lambda functions can take any number of arguments but can only have one expression. The expression is evaluated and returned when the lambda function is called. Lambda functions are often used for short, simple operations that can be defined in a single line of code.\n",
    "\n",
    "\n",
    "\n",
    "\n",
    "# Lambda function with a single expression\n",
    "add = lambda x, y: x + y\n",
    "\n",
    "# Regular function with multiple statements\n",
    "def add(x, y):\n",
    "    result = x + y\n",
    "    return result\n",
    "\n",
    "# Lambda function with a single expression\n",
    "add = lambda x, y: x + y\n",
    "\n",
    "# Regular function with multiple statements\n",
    "def add(x, y):\n",
    "    result = x + y\n",
    "    return result\n",
    "\n"
   ]
  },
  {
   "cell_type": "markdown",
   "id": "4eccbed9",
   "metadata": {},
   "source": [
    "2.#Can a lambda function in Python have multiple arguments? If yes, how can you define and use\n",
    "them?\n",
    "\n",
    "Ans: Yes, a lambda function in Python can have multiple arguments. You can define a lambda function with multiple arguments by separating the arguments with commas, followed by a colon, and then specifying the expression\n",
    "ex:\n",
    "addition = lambda x, y, z: x + y + z\n",
    "result = addition(2, 3, 4)\n",
    "print(result)  # Output: 9\n"
   ]
  },
  {
   "cell_type": "raw",
   "id": "a8dae087",
   "metadata": {},
   "source": [
    "3.3. How are lambda functions typically used in Python? Provide an example use case.\n",
    "Ans: \n",
    "Lambda functions in Python are commonly used in situations where a small, simple function is needed for a short period of time\n",
    "numbers = [1, 2, 3, 4, 5]\n",
    "\n",
    "# Using a lambda function to square each number in the list\n",
    "squared_numbers = list(map(lambda x: x**2, numbers))\n",
    "\n",
    "print(squared_numbers)\n",
    "# Output: [1, 4, 9, 16, 25]\n"
   ]
  },
  {
   "cell_type": "code",
   "execution_count": 7,
   "id": "4e640397",
   "metadata": {},
   "outputs": [
    {
     "data": {
      "text/plain": [
       "(1, 4, 9)"
      ]
     },
     "execution_count": 7,
     "metadata": {},
     "output_type": "execute_result"
    }
   ],
   "source": [
    "numbers=[1,2,3]\n",
    "squared=tuple(map(lambda x:x**2,numbers))\n",
    "squared"
   ]
  },
  {
   "cell_type": "code",
   "execution_count": null,
   "id": "f536f42e",
   "metadata": {},
   "outputs": [],
   "source": [
    "4.What are the advantages and limitations of lambda functions compared to regular functions in\n",
    "Python?\n",
    "\n",
    "Ans: Conciseness: Lambda functions are concise and allow you to write simple functions in a single line of code. This can make your code more readable and expressive, \n",
    "        especially when the function logic is straightforward.\n",
    "        # Lambda function\n",
    "add = lambda x, y: x + y\n",
    "\n",
    "# Equivalent regular function\n",
    "def add(x, y):\n",
    "    return x + y\n",
    "\n",
    "\n",
    "Anonymous: Lambda functions are anonymous, meaning they dont require a name.\n",
    "    This is beneficial when you need a small function for a short period and dont want to define a separate named function.\n",
    "    \n",
    "    # Lambda function without a name\n",
    "lambda x, y: x + y\n",
    "\n",
    "# Regular function with a name\n",
    "def add(x, y):\n",
    "    return x + y\n",
    "\n",
    "#Limitations of Lambda Functions:\n",
    "# Lambda function with multiple expressions (not allowed)\n",
    "lambda x: \n",
    "    if x > 0:\n",
    "        return x\n",
    "    else:\n",
    "        return -x\n",
    "\n",
    "# Equivalent regular function\n",
    "def abs(x):\n",
    "    if x > 0:\n",
    "        return x\n",
    "    else:\n",
    "        return -x\n",
    "\n",
    "\n"
   ]
  },
  {
   "cell_type": "code",
   "execution_count": 8,
   "id": "d8391818",
   "metadata": {},
   "outputs": [
    {
     "ename": "SyntaxError",
     "evalue": "invalid syntax (3618849561.py, line 2)",
     "output_type": "error",
     "traceback": [
      "\u001b[1;36m  Cell \u001b[1;32mIn[8], line 2\u001b[1;36m\u001b[0m\n\u001b[1;33m    Explain with an example.\u001b[0m\n\u001b[1;37m            ^\u001b[0m\n\u001b[1;31mSyntaxError\u001b[0m\u001b[1;31m:\u001b[0m invalid syntax\n"
     ]
    }
   ],
   "source": [
    "5. Are lambda functions in Python able to access variables defined outside of their own scope?\n",
    "Explain with an example.\n",
    "\n",
    "\n",
    "Yes, lambda functions in Python can access variables defined outside of their own scope. However, they can only access these variables if the variables are passed as arguments to the lambda function or if they are defined in an enclosing scope.\n",
    "This behavior is known as lexical scoping or closure\n",
    "\n",
    "def create_multiplier(factor):\n",
    "    return lambda x:x*factor\n",
    "\n",
    "create_multiplier(2)\n",
    "\n"
   ]
  },
  {
   "cell_type": "code",
   "execution_count": 13,
   "id": "dd6edf08",
   "metadata": {},
   "outputs": [
    {
     "data": {
      "text/plain": [
       "10"
      ]
     },
     "execution_count": 13,
     "metadata": {},
     "output_type": "execute_result"
    }
   ],
   "source": [
    "def create_multiplier(factor):\n",
    "    return lambda x:x*factor\n",
    "\n",
    "result=create_multiplier(2)\n",
    "\n",
    "result1=result(5)\n",
    "result1"
   ]
  },
  {
   "cell_type": "code",
   "execution_count": 15,
   "id": "00a20f22",
   "metadata": {},
   "outputs": [
    {
     "data": {
      "text/plain": [
       "9"
      ]
     },
     "execution_count": 15,
     "metadata": {},
     "output_type": "execute_result"
    }
   ],
   "source": [
    "#Write a lambda function to calculate the square of a given number.\n",
    "\n",
    "\n",
    "\n",
    "squared=lambda x:x**2\n",
    "squared(3)"
   ]
  },
  {
   "cell_type": "code",
   "execution_count": 20,
   "id": "5159297e",
   "metadata": {},
   "outputs": [
    {
     "data": {
      "text/plain": [
       "8"
      ]
     },
     "execution_count": 20,
     "metadata": {},
     "output_type": "execute_result"
    }
   ],
   "source": [
    "#7. Create a lambda function to find the maximum value in a list of integers.\n",
    "numbers=[1,2,3,4,5,6,6,7,8]\n",
    "maximum=(lambda x: max(x))\n",
    "\n",
    "result = maximum(numbers)\n",
    "(result)"
   ]
  },
  {
   "cell_type": "code",
   "execution_count": 24,
   "id": "aa8de7b0",
   "metadata": {},
   "outputs": [
    {
     "name": "stdout",
     "output_type": "stream",
     "text": [
      "[2, 4, 6, 8, 10]\n"
     ]
    }
   ],
   "source": [
    "#8. Implement a lambda function to filter out all the even numbers from a list of integers.\n",
    "numbers=[1,2,3,4,5,6,7,8,9,10]\n",
    "even_numbers=list(filter(lambda x:x%2==0,numbers))\n",
    "print(even_numbers)"
   ]
  },
  {
   "cell_type": "code",
   "execution_count": 31,
   "id": "0033c2cd",
   "metadata": {},
   "outputs": [
    {
     "data": {
      "text/plain": [
       "['prajwal', 'gowtham', 'prashanth']"
      ]
     },
     "execution_count": 31,
     "metadata": {},
     "output_type": "execute_result"
    }
   ],
   "source": [
    "#9. Write a lambda function to sort a list of strings in ascending order based on the length of each\n",
    "#string.\n",
    "\n",
    "words=['prashanth','prajwal','gowtham']\n",
    "sorted_words=sorted(words,key=lambda x:len(x))\n",
    "sorted_words"
   ]
  },
  {
   "cell_type": "code",
   "execution_count": 34,
   "id": "ba28bcdd",
   "metadata": {},
   "outputs": [
    {
     "data": {
      "text/plain": [
       "[3, 4, 5]"
      ]
     },
     "execution_count": 34,
     "metadata": {},
     "output_type": "execute_result"
    }
   ],
   "source": [
    "#10. Create a lambda function that takes two lists as input and returns a new list containing the\n",
    "#common elements between the two lists.\n",
    "\n",
    "# Sample lists\n",
    "list1 = [1, 2, 3, 4, 5]\n",
    "list2 = [3, 4, 5, 6, 7]\n",
    "\n",
    "# Lambda function to find common elements between two lists\n",
    "common_elements = lambda x, y: list(filter(lambda element: element in x, y),(list1,list2))\n",
    "\n",
    "# Using the lambda function to find common elements\n",
    "\n",
    "result"
   ]
  },
  {
   "cell_type": "code",
   "execution_count": 35,
   "id": "3b800ab5",
   "metadata": {},
   "outputs": [],
   "source": [
    "#11. Write a recursive function to calculate the factorial of a given positive integer.\n",
    "def factorial(n):\n",
    "    if n==0:\n",
    "        return 1\n",
    "    else:\n",
    "        return n*factorial(n-1)\n"
   ]
  },
  {
   "cell_type": "code",
   "execution_count": 36,
   "id": "f0c8322c",
   "metadata": {},
   "outputs": [
    {
     "data": {
      "text/plain": [
       "120"
      ]
     },
     "execution_count": 36,
     "metadata": {},
     "output_type": "execute_result"
    }
   ],
   "source": [
    "factorial(5)"
   ]
  },
  {
   "cell_type": "code",
   "execution_count": 47,
   "id": "5a0c034d",
   "metadata": {},
   "outputs": [],
   "source": [
    "#13. Create a recursive function to find the sum of all the elements in a given list.\n",
    "def recursive_sum(lst):\n",
    "    if not lst:\n",
    "        return 0\n",
    "    else:\n",
    "        \n",
    "        return lst[0]+recursive_sum(lst[1:])"
   ]
  },
  {
   "cell_type": "code",
   "execution_count": 48,
   "id": "7a7682af",
   "metadata": {},
   "outputs": [
    {
     "data": {
      "text/plain": [
       "15"
      ]
     },
     "execution_count": 48,
     "metadata": {},
     "output_type": "execute_result"
    }
   ],
   "source": [
    "recursive_sum([1,2,3,4,5])"
   ]
  },
  {
   "cell_type": "code",
   "execution_count": 50,
   "id": "a6a49a4c",
   "metadata": {},
   "outputs": [],
   "source": [
    "#14. Write a recursive function to determine whether a given string is a palindrome.\n",
    "def is_paliandrome(s):\n",
    "    if len(s)<=1:\n",
    "        return True\n",
    "    elif s[0]==s[-1] and is_paliandrome(s[1:-1]):\n",
    "        return True\n",
    "    else:\n",
    "        return False\n",
    "        "
   ]
  },
  {
   "cell_type": "code",
   "execution_count": 51,
   "id": "18041960",
   "metadata": {},
   "outputs": [
    {
     "data": {
      "text/plain": [
       "True"
      ]
     },
     "execution_count": 51,
     "metadata": {},
     "output_type": "execute_result"
    }
   ],
   "source": [
    "is_paliandrome('racecar')"
   ]
  },
  {
   "cell_type": "code",
   "execution_count": 52,
   "id": "7067702d",
   "metadata": {},
   "outputs": [
    {
     "name": "stdout",
     "output_type": "stream",
     "text": [
      "The GCD of 48 and 18 is 6\n"
     ]
    }
   ],
   "source": [
    "#15. Implement a recursive function to find the greatest common divisor (GCD) of two positive integers.\n",
    "def gcd(a, b):\n",
    "    # Base case: if b is 0, the GCD is a (a is the remaining non-zero number)\n",
    "    if b == 0:\n",
    "        return a\n",
    "    # Recursive case: find the GCD of b and a % b\n",
    "    else:\n",
    "        return gcd(b, a % b)\n",
    "\n",
    "# Example usage\n",
    "num1 = 48\n",
    "num2 = 18\n",
    "result = gcd(num1, num2)\n",
    "print(f'The GCD of {num1} and {num2} is {result}')\n",
    "# Output: The GCD of 48 and 18 is 6\n"
   ]
  }
 ],
 "metadata": {
  "kernelspec": {
   "display_name": "Python 3 (ipykernel)",
   "language": "python",
   "name": "python3"
  },
  "language_info": {
   "codemirror_mode": {
    "name": "ipython",
    "version": 3
   },
   "file_extension": ".py",
   "mimetype": "text/x-python",
   "name": "python",
   "nbconvert_exporter": "python",
   "pygments_lexer": "ipython3",
   "version": "3.8.13"
  }
 },
 "nbformat": 4,
 "nbformat_minor": 5
}
