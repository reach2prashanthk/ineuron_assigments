{
 "cells": [
  {
   "cell_type": "code",
   "execution_count": null,
   "id": "1fa50a6d",
   "metadata": {},
   "outputs": [],
   "source": [
    "1. Explain what inheritance is in object-oriented programming and why it is used."
   ]
  },
  {
   "cell_type": "code",
   "execution_count": null,
   "id": "05ed0354",
   "metadata": {},
   "outputs": [],
   "source": [
    "#Inheritance is a fundamental concept in object-oriented programming (OOP) that allows a new class (called a subclass or derived class) to inherit properties and behavior (attributes and methods) from an existing class\n",
    "#(called a superclass or base class)\n",
    "\n",
    "#Code Reusability: Inheritance allows subclasses to reuse attributes and methods defined in the superclass. This avoids redundant code\n",
    "\n",
    "#Hierarchy and Specialization: Inheritance enables the creation of a hierarchical structure of classes. Subclasses can specialize and extend the functionality of their parent classes. \n",
    "#Method Overriding: Subclasses can provide their own implementation of methods inherited from the superclass."
   ]
  },
  {
   "cell_type": "code",
   "execution_count": 1,
   "id": "c1eba1b5",
   "metadata": {},
   "outputs": [],
   "source": [
    "class animal:\n",
    "    def __init__(self,name):\n",
    "        self.name=name\n",
    "        \n",
    "    def sound(self):\n",
    "        pass"
   ]
  },
  {
   "cell_type": "code",
   "execution_count": 3,
   "id": "734af405",
   "metadata": {},
   "outputs": [],
   "source": [
    "class dog(animal):\n",
    "    def sound(self):\n",
    "        return \"bow\"\n",
    "class cat(animal):\n",
    "    def sound(self):\n",
    "        return \"mew\""
   ]
  },
  {
   "cell_type": "code",
   "execution_count": 7,
   "id": "b5e0718b",
   "metadata": {},
   "outputs": [
    {
     "data": {
      "text/plain": [
       "'bow'"
      ]
     },
     "execution_count": 7,
     "metadata": {},
     "output_type": "execute_result"
    }
   ],
   "source": [
    "dog1=dog('jack')\n",
    "dog1.sound()"
   ]
  },
  {
   "cell_type": "code",
   "execution_count": 11,
   "id": "e0f5550e",
   "metadata": {},
   "outputs": [
    {
     "data": {
      "text/plain": [
       "'mew'"
      ]
     },
     "execution_count": 11,
     "metadata": {},
     "output_type": "execute_result"
    }
   ],
   "source": [
    "cat1=cat('pinky')\n",
    "cat1.sound()"
   ]
  },
  {
   "cell_type": "code",
   "execution_count": 12,
   "id": "049ec79d",
   "metadata": {},
   "outputs": [],
   "source": [
    "#2. Discuss the concept of single inheritance and multiple inheritance, highlighting their\n",
    "#differences and advantages.\n",
    "#Single Inheritance:\n",
    "#Definition: Single inheritance refers to the situation where a class inherits properties and behaviors from only one superclass.\n",
    "\n",
    "class parent1:\n",
    "    pass\n",
    "\n",
    "class child(parent1):\n",
    "    pass"
   ]
  },
  {
   "cell_type": "code",
   "execution_count": 13,
   "id": "eef5f961",
   "metadata": {},
   "outputs": [],
   "source": [
    "#Multiple Inheritance:\n",
    "#Definition: Multiple inheritance occurs when a class inherits properties and behaviors from more than one superclass\n",
    "\n",
    "class parent1:\n",
    "    pass\n",
    "\n",
    "class parent2:\n",
    "    pass\n",
    "    \n",
    "class child(parent1,parent2):\n",
    "    pass\n",
    "\n",
    "\n",
    "#Advantages:\n",
    "\n",
    "#Flexibility: Multiple inheritance allows a class to inherit attributes and methods from multiple sources,class can combine features from different parent classes, enabling the creation of specialized classes with diverse functionalities.\n",
    "\n",
    "\n",
    "#Disadvantages:\n",
    "\n",
    "#Complexity: Multiple inheritance can lead to complex class relationships, making the code harder to read, understand, and maintain"
   ]
  },
  {
   "cell_type": "code",
   "execution_count": 14,
   "id": "d761a403",
   "metadata": {},
   "outputs": [],
   "source": [
    "#3. Explain the terms \"base class\" and \"derived class\" in the context of inheritance.\n",
    "\n",
    "#A base class, also known as a superclass or parent class, is a class that provides properties (attributes) and behaviors (methods) that are inherited by other classes. It serves as the foundation for one or more derived classes\n",
    "\n",
    "\n",
    "class animal:\n",
    "    def sound(self):\n",
    "        pass\n",
    "    \n",
    "class dog(animal):\n",
    "    def sound(self):\n",
    "        return \"wolf\"\n",
    "    \n",
    "#Derived Class (Subclass):\n",
    "#A derived class, also known as a subclass or child class, is a class that inherits properties and behaviors from a base class.\n",
    "\n",
    "class animal:\n",
    "    def sound(self):\n",
    "        pass\n",
    "    \n",
    "class dog(animal):\n",
    "    def sound(self):\n",
    "        return \"bow\"\n",
    "    \n",
    "class cat(animal):\n",
    "    def sound(self):\n",
    "        return \"mew\""
   ]
  },
  {
   "cell_type": "code",
   "execution_count": 17,
   "id": "d89a9582",
   "metadata": {},
   "outputs": [
    {
     "data": {
      "text/plain": [
       "'mew'"
      ]
     },
     "execution_count": 17,
     "metadata": {},
     "output_type": "execute_result"
    }
   ],
   "source": [
    "cat1=cat()\n",
    "cat1.sound()"
   ]
  },
  {
   "cell_type": "code",
   "execution_count": 30,
   "id": "5ad6c98f",
   "metadata": {},
   "outputs": [],
   "source": [
    "#4. What is the significance of the \"protected\" access modifier in inheritance? How does\n",
    "#it differ from \"private\" and \"public\" modifiers?\n",
    "\n",
    "#ans: 1. Public Access Modifier:\n",
    "#Description: Public members are accessible from any part of the program, both within and outside the class.\n",
    "\n",
    "class base:\n",
    "    def __init__(self):\n",
    "        self.public_var=10\n",
    "        \n",
    "class derived_class(base):\n",
    "    def display(self):\n",
    "        print(self.public_var)\n"
   ]
  },
  {
   "cell_type": "code",
   "execution_count": 31,
   "id": "ea2ade03",
   "metadata": {},
   "outputs": [
    {
     "name": "stdout",
     "output_type": "stream",
     "text": [
      "10\n"
     ]
    }
   ],
   "source": [
    "obj=derived_class()\n",
    "obj.display()\n"
   ]
  },
  {
   "cell_type": "code",
   "execution_count": 35,
   "id": "51afde02",
   "metadata": {
    "scrolled": true
   },
   "outputs": [
    {
     "ename": "AttributeError",
     "evalue": "'derived' object has no attribute '_derived__private_var'",
     "output_type": "error",
     "traceback": [
      "\u001b[1;31m---------------------------------------------------------------------------\u001b[0m",
      "\u001b[1;31mAttributeError\u001b[0m                            Traceback (most recent call last)",
      "Cell \u001b[1;32mIn[35], line 13\u001b[0m\n\u001b[0;32m     10\u001b[0m         \u001b[38;5;28mprint\u001b[39m(\u001b[38;5;28mself\u001b[39m\u001b[38;5;241m.\u001b[39m__private_var)\n\u001b[0;32m     12\u001b[0m obj\u001b[38;5;241m=\u001b[39mderived()\n\u001b[1;32m---> 13\u001b[0m \u001b[43mobj\u001b[49m\u001b[38;5;241;43m.\u001b[39;49m\u001b[43mdisplay\u001b[49m\u001b[43m(\u001b[49m\u001b[43m)\u001b[49m\n",
      "Cell \u001b[1;32mIn[35], line 10\u001b[0m, in \u001b[0;36mderived.display\u001b[1;34m(self)\u001b[0m\n\u001b[0;32m      9\u001b[0m \u001b[38;5;28;01mdef\u001b[39;00m \u001b[38;5;21mdisplay\u001b[39m(\u001b[38;5;28mself\u001b[39m):\n\u001b[1;32m---> 10\u001b[0m     \u001b[38;5;28mprint\u001b[39m(\u001b[38;5;28;43mself\u001b[39;49m\u001b[38;5;241;43m.\u001b[39;49m\u001b[43m__private_var\u001b[49m)\n",
      "\u001b[1;31mAttributeError\u001b[0m: 'derived' object has no attribute '_derived__private_var'"
     ]
    }
   ],
   "source": [
    "# Protected Access Modifier:\n",
    "#Description: Protected members are accessible within the class and its subclasses (derived classes), but not from outside.\n",
    "\n",
    "class base:\n",
    "    def __init__(self):\n",
    "        self.__private_var=20\n",
    "        \n",
    "class derived(base):\n",
    "    def display(self):\n",
    "        print(self.__private_var)\n",
    "        \n",
    "obj=derived()\n",
    "obj.display()"
   ]
  },
  {
   "cell_type": "code",
   "execution_count": 48,
   "id": "80e09fa7",
   "metadata": {},
   "outputs": [
    {
     "name": "stdout",
     "output_type": "stream",
     "text": [
      "20\n"
     ]
    }
   ],
   "source": [
    "#modified code to access private variable\n",
    "\n",
    "class base:\n",
    "    def __init__(self):\n",
    "        self.__private_var=20\n",
    "        \n",
    "    \n",
    "        \n",
    "    \n",
    "    \n",
    "class derived(base):\n",
    "    def display(self):\n",
    "        print(self._base__private_var)\n",
    "        \n",
    "obj=derived()\n",
    "obj.display()"
   ]
  },
  {
   "cell_type": "code",
   "execution_count": 53,
   "id": "4ed96d10",
   "metadata": {},
   "outputs": [
    {
     "name": "stdout",
     "output_type": "stream",
     "text": [
      "20\n"
     ]
    }
   ],
   "source": [
    "#or\n",
    "class base:\n",
    "    def __init__(self):\n",
    "        self.__private_var=20\n",
    "        \n",
    "    def get_private_var(self):\n",
    "        \n",
    "        return self.__private_var\n",
    "    \n",
    "class derived(base):\n",
    "    def display(self):\n",
    "        private_var=self.get_private_var()\n",
    "        print(private_var)\n",
    "        \n",
    "obj=derived()\n",
    "obj.display()"
   ]
  },
  {
   "cell_type": "code",
   "execution_count": null,
   "id": "0431f3bf",
   "metadata": {},
   "outputs": [],
   "source": [
    "#Inheritance Balance: Protected members allow derived classes to access and modify inherited attributes and methods,Maintaining Encapsulation: While providing inheritance, \n",
    "#the \"protected\" modifier encapsulates data by allowing access only within the class hierarchy"
   ]
  },
  {
   "cell_type": "code",
   "execution_count": 95,
   "id": "948fe942",
   "metadata": {},
   "outputs": [
    {
     "name": "stdout",
     "output_type": "stream",
     "text": [
      "good morning dear prashanth\n",
      "age:20\n"
     ]
    }
   ],
   "source": [
    "#5. What is the purpose of the \"super\" keyword in inheritance? Provide an example.\n",
    "\n",
    "\n",
    "#The super() keyword in Python is used to call methods and access attributes from the parent class within a subclass.\n",
    "#Calling Parent Class Methods: In a subclass, you can use super() to call methods of the parent class,\n",
    "\n",
    "#Supporting Multiple Inheritance: When dealing with multiple inheritance (a class inheriting from more than one parent class), super()\n",
    "\n",
    "class parent:\n",
    "    def __init__(self,name):\n",
    "        self.name=name\n",
    "        \n",
    "    def greet(self):\n",
    "        print(f\"good morning dear {self.name}\")\n",
    "        \n",
    "              \n",
    "class child(parent):\n",
    "    def __init__(self,name,age):\n",
    "        self.age=age\n",
    "        super().__init__(name)\n",
    "        \n",
    "    def greet(self):\n",
    "        super().greet()\n",
    "        print(f\"age:{self.age}\")\n",
    "        \n",
    "        \n",
    "obj=child('prashanth',20)\n",
    "obj.greet()\n",
    "        \n",
    "\n",
    "        \n",
    "\n"
   ]
  },
  {
   "cell_type": "code",
   "execution_count": 96,
   "id": "168adb6c",
   "metadata": {},
   "outputs": [],
   "source": [
    "#6. Create a base class called \"Vehicle\" with attributes like \"make\", \"model\", and \"year\".\n",
    "#Then, create a derived class called \"Car\" that inherits from \"Vehicle\" and adds an\n",
    "#attribute called \"fuel_type\". Implement appropriate methods in both classes."
   ]
  },
  {
   "cell_type": "code",
   "execution_count": 105,
   "id": "4e8bebf4",
   "metadata": {},
   "outputs": [],
   "source": [
    "class vehicle:\n",
    "    def __init__(self,make,model,year):\n",
    "        self.make=make\n",
    "        self.model=model\n",
    "        self.year=year\n",
    "        \n",
    "    def display(self):\n",
    "        print(f\"{self.make},{self.model},{self.year}\")\n",
    "        \n",
    "        \n",
    "class car(vehicle):\n",
    "    def __init__(self,make, model,year,fueltype):\n",
    "        self.fueltype=fueltype\n",
    "        super().__init__(make,model,year)\n",
    "        \n",
    "        \n",
    "    def display(self):\n",
    "        super().display()\n",
    "        print(f\"fueltype:{self.fueltype}\")\n",
    "        \n",
    "              \n",
    "        "
   ]
  },
  {
   "cell_type": "code",
   "execution_count": 109,
   "id": "a59b3707",
   "metadata": {},
   "outputs": [
    {
     "name": "stdout",
     "output_type": "stream",
     "text": [
      "tata,indica,2009\n",
      "fueltype:petrol\n"
     ]
    }
   ],
   "source": [
    "car1=car('tata','indica',2009,'petrol')\n",
    "car1.display()"
   ]
  },
  {
   "cell_type": "code",
   "execution_count": null,
   "id": "2371557f",
   "metadata": {},
   "outputs": [],
   "source": []
  },
  {
   "cell_type": "code",
   "execution_count": 110,
   "id": "1c1f3619",
   "metadata": {},
   "outputs": [],
   "source": [
    "#Create a base class called \"Employee\" with attributes like \"name\" and \"salary.\"\n",
    "#Derive two classes, \"Manager\" and \"Developer,\" from \"Employee.\" Add an additional\n",
    "#attribute called \"department\" for the \"Manager\" class and \"programming_language\"\n",
    "#for the \"Developer\" class."
   ]
  },
  {
   "cell_type": "code",
   "execution_count": 116,
   "id": "b9a6f1a4",
   "metadata": {},
   "outputs": [
    {
     "data": {
      "text/plain": [
       "'IT'"
      ]
     },
     "execution_count": 116,
     "metadata": {},
     "output_type": "execute_result"
    }
   ],
   "source": [
    "class employee:\n",
    "    def __init__(self,name,salary):\n",
    "        self.name=name\n",
    "        self.salary=salary\n",
    "        \n",
    "class manager(employee):\n",
    "    \n",
    "    def __init__(self,name,salary,dept):\n",
    "        super().__init__(name,salary)\n",
    "        self.dept=dept\n",
    "    \n",
    "    \n",
    "    \n",
    "class developer(employee):\n",
    "    def __init__(self,name,salary,program):\n",
    "        self.program=program\n",
    "        super().__init__(self,name,salary)\n",
    "        \n",
    "obj=manager(\"prashanth\",100,\"IT\")\n",
    "obj.dept\n",
    "    "
   ]
  },
  {
   "cell_type": "code",
   "execution_count": 37,
   "id": "a69df4bd",
   "metadata": {},
   "outputs": [
    {
     "name": "stdout",
     "output_type": "stream",
     "text": [
      "red 24\n"
     ]
    }
   ],
   "source": [
    "class Base:\n",
    "    def __init__(self, color, borderwidth):\n",
    "        self.color = color\n",
    "        self.borderwidth = borderwidth\n",
    "        \n",
    "class Rectangle(Base):\n",
    "    def __init__(self, color, borderwidth, length, width):\n",
    "        super().__init__(color, borderwidth)\n",
    "        self.length = length\n",
    "        self.width = width\n",
    "        \n",
    "class Circle(Base):\n",
    "    def __init__(self, color, borderwidth, radius):\n",
    "        super().__init__(color, borderwidth)\n",
    "        self.radius = radius\n",
    "        \n",
    "obj = Rectangle('red', 12, 24, 34)\n",
    "print(obj.color, obj.length)  # Output: red 24\n",
    "\n"
   ]
  },
  {
   "cell_type": "code",
   "execution_count": null,
   "id": "c221bb9f",
   "metadata": {},
   "outputs": [],
   "source": []
  },
  {
   "cell_type": "code",
   "execution_count": 41,
   "id": "d118d23c",
   "metadata": {},
   "outputs": [
    {
     "data": {
      "text/plain": [
       "<__main__.Circle at 0x138f4e4d4c0>"
      ]
     },
     "execution_count": 41,
     "metadata": {},
     "output_type": "execute_result"
    }
   ],
   "source": [
    "obj1=Circle('green',34,56)\n",
    "obj1"
   ]
  },
  {
   "cell_type": "code",
   "execution_count": null,
   "id": "3172357c",
   "metadata": {},
   "outputs": [],
   "source": [
    "#Create a base class called \"Device\" with attributes like \"brand\" and \"model.\" Derive\n",
    "two classes, \"Phone\" and \"Tablet,\" from \"Device.\" Add specific attributes like\n",
    "\"screen_size\" for the \"Phone\" class and \"battery_capacity\" for the \"Tablet\" class."
   ]
  },
  {
   "cell_type": "code",
   "execution_count": 43,
   "id": "0f5d8744",
   "metadata": {},
   "outputs": [],
   "source": [
    "class device:\n",
    "    def __init__(self,brand,model):\n",
    "        self.brand=brand\n",
    "        self.model=model\n",
    "        \n",
    "class phone(device):\n",
    "    def __init__(self,brand,model,screensize):\n",
    "        self.screensize=screensize\n",
    "        super().__init__(self,brand,model)\n",
    "    \n",
    "class tablet(device):\n",
    "    def __init__(self,brand,model,batterycapacity):\n",
    "        self.batterycapacity=batterycapacity\n",
    "        super().__init__(brand,model)\n",
    "        \n",
    "\n",
    "    "
   ]
  },
  {
   "cell_type": "code",
   "execution_count": 44,
   "id": "11128743",
   "metadata": {},
   "outputs": [
    {
     "name": "stdout",
     "output_type": "stream",
     "text": [
      "apple,ios12,2000\n"
     ]
    }
   ],
   "source": [
    "tablet1=tablet('apple','ios12',2000)\n",
    "print(f\"{tablet1.brand},{tablet1.model},{tablet1.batterycapacity}\")"
   ]
  },
  {
   "cell_type": "code",
   "execution_count": null,
   "id": "c28260d3",
   "metadata": {},
   "outputs": [],
   "source": [
    "#10. Create a base class called \"BankAccount\" with attributes like \"account_number\" and\n",
    "\"balance.\" Derive two classes, \"SavingsAccount\" and \"CheckingAccount,\" from\n",
    "\"BankAccount.\" Add specific methods like \"calculate_interest\" for the\n",
    "\"SavingsAccount\" class and \"deduct_fees\" for the \"CheckingAccount\" class."
   ]
  },
  {
   "cell_type": "code",
   "execution_count": 24,
   "id": "2d879ca2",
   "metadata": {},
   "outputs": [
    {
     "name": "stdout",
     "output_type": "stream",
     "text": [
      "6000\n"
     ]
    }
   ],
   "source": [
    "class bankaccount:\n",
    "    def __init__(self,accountnumber,balance=0):\n",
    "        self.accountnumber=accountnumber\n",
    "        self.balance=balance\n",
    "        \n",
    "        \n",
    "    def deposit(self,amount):\n",
    "        self.balance+=amount\n",
    "        \n",
    "    def withdraw(self,amount):\n",
    "        self.balance-=amount\n",
    "        \n",
    "    def get_balance(self):\n",
    "        return self.balance\n",
    "    \n",
    "\n",
    "        \n",
    "class savingsaccount(bankaccount):\n",
    "    def __init__(self,accountnumber,balance,interestrate):\n",
    "        self.interestrate=interestrate\n",
    "        super().__init__(accountnumber,balance)\n",
    "        \n",
    "    def calculateinterest(self):\n",
    "        interest=self.balance*self.interestrate\n",
    "        self.balance+=interest\n",
    "        return self.balance\n",
    "        \n",
    "        \n",
    "        \n",
    "    \n",
    "        \n",
    "        \n",
    "class checkingaccount(bankaccount):\n",
    "    def __init__(self,accountnumber,balance,feerate):\n",
    "        self.feerate=feerate\n",
    "        super().__init__(accountnumber,balance)\n",
    "        \n",
    "    def deductfees(self):\n",
    "        amount=self.balance*self.feerate\n",
    "        self.balance-=amount\n",
    "        return self.balance\n",
    "    \n",
    "    \n",
    "savingsaccount1=savingsaccount(accountnumber=123, balance=1000,  interestrate=5)\n",
    "savingsinterest=savingsaccount1.calculateinterest()\n",
    "print(savingsinterest)"
   ]
  },
  {
   "cell_type": "code",
   "execution_count": 27,
   "id": "b515eafc",
   "metadata": {},
   "outputs": [
    {
     "data": {
      "text/plain": [
       "800.0"
      ]
     },
     "execution_count": 27,
     "metadata": {},
     "output_type": "execute_result"
    }
   ],
   "source": [
    "checkingaccount1=checkingaccount(accountnumber=123,balance=1000,feerate=.20)\n",
    "checkingaccount1.deductfees()"
   ]
  }
 ],
 "metadata": {
  "kernelspec": {
   "display_name": "Python 3 (ipykernel)",
   "language": "python",
   "name": "python3"
  },
  "language_info": {
   "codemirror_mode": {
    "name": "ipython",
    "version": 3
   },
   "file_extension": ".py",
   "mimetype": "text/x-python",
   "name": "python",
   "nbconvert_exporter": "python",
   "pygments_lexer": "ipython3",
   "version": "3.8.13"
  }
 },
 "nbformat": 4,
 "nbformat_minor": 5
}
