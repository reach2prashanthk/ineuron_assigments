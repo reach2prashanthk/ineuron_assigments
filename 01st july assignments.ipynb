{
 "cells": [
  {
   "cell_type": "markdown",
   "id": "afabcce6",
   "metadata": {},
   "source": [
    "#1. What is the primary goal of Object-Oriented Programming (OOP)?\n",
    "#Ans:The primary goal of Object-Oriented Programming (OOP) is to improve the organization\n",
    "    #and structure of software by modeling real-world entities and their interactions using objects and classes\n",
    "    Encapsulation: Encapsulation refers to the bundling of data (variables) and methods (functions) that operate on the data into a single unit known as a class. It hides the internal state of objects from the outside world and restricts direct access to some of an object's components. \n",
    "    Inheritance: Inheritance allows a class (subclass/derived class) to inherit properties and methods from another class (superclass/base class). It enables the creation of new classes based on existing classes\n",
    "    Polymorphism: Polymorphism means \"many forms.\" It allows objects of different classes to be treated as objects of a common superclass. Polymorphism enables flexibility and dynamic behavior in the software. \n",
    "    Abstraction: Abstraction is the concept of simplifying complex systems by modeling classes appropriate to the problem while ignoring unnecessary details. \n",
    "    \n",
    "    \n",
    "    \n"
   ]
  },
  {
   "cell_type": "code",
   "execution_count": null,
   "id": "b74b9f47",
   "metadata": {},
   "outputs": [],
   "source": [
    "#2. What is an object in Python?\n",
    "In Python, an object is a fundamental concept that represents a real-world entity or a piece of data.\n",
    "Everything in Python is an object, including numbers, strings, lists, functions\n",
    "x = 5  # x is an object of the integer class\n",
    "name = \"Alice\"  # name is an object of the string class\n",
    "In summary, in Python, an object is a specific instance of a data type or a class.\n",
    "Objects can store data (attributes) and perform actions (methods),\n"
   ]
  },
  {
   "cell_type": "code",
   "execution_count": 4,
   "id": "abaaec56",
   "metadata": {},
   "outputs": [
    {
     "data": {
      "text/plain": [
       "'tata'"
      ]
     },
     "execution_count": 4,
     "metadata": {},
     "output_type": "execute_result"
    }
   ],
   "source": [
    "#3. What is a class in Python?\n",
    "#4. What are attributes and methods in a class?\n",
    "#In Python, a class is a blueprint or a template for creating objects. \n",
    "#It defines a set of attributes and behaviors that will characterize any object created from the class.\n",
    "\n",
    "#Attributes: Attributes are variables that belong to the class and represent the characteristics or properties of objects\n",
    "    #created from the class\n",
    "    \n",
    "    \n",
    "class car:\n",
    "    def _init__(self,brand,model):\n",
    "        self.brand=brand # Attribute: brand\n",
    "        self.model=model# Attribute: model\n",
    "        \n",
    "#Methods: Methods are functions defined inside the class.\n",
    "    #They represent the actions or behaviors that the objects created from the class can perform     \n",
    "    \n",
    "class car:\n",
    "    def __init__(self,brand,model):\n",
    "        self.brand=brand\n",
    "        self.model=model\n",
    "        \n",
    "    def display_info(self):\n",
    "        print(f\"car:{self.brand}{self.model}\")\n",
    "    \n",
    "#Constructor (__init__ method): The __init__ method is a special method used to initialize the \n",
    "#object's attributes when the object is created. \n",
    "\n",
    "class car:\n",
    "    def __init__(self,brand,model):\n",
    "        self.brand=brand\n",
    "        self.model=model\n",
    "        \n",
    "        \n",
    "#Creating Objects (Instances): Once a class is defined, you can create objects (instances) of that class. \n",
    "#Objects are created by calling the class as if it were a function.\n",
    "my_car=car('tata','indica')\n",
    "\n",
    "my_car.brand"
   ]
  },
  {
   "cell_type": "code",
   "execution_count": 7,
   "id": "ad388e71",
   "metadata": {},
   "outputs": [
    {
     "data": {
      "text/plain": [
       "4"
      ]
     },
     "execution_count": 7,
     "metadata": {},
     "output_type": "execute_result"
    }
   ],
   "source": [
    "#5. What is the difference between class variables and instance variables in Python?\n",
    "\n",
    "#Class Variables:\n",
    "#Shared by All Instances: Class variables are shared by all instances (objects) of the class. They are defined within the class but outside of any instance methods.\n",
    "#Same Value for Every Instance: If you change the value of a class variable, the change will be reflected across all instances of the class\n",
    "#Defined outside Methods: Class variables are typically defined directly inside the class, outside any methods.\n",
    "\n",
    "class car:\n",
    "    wheels=4\n",
    "    \n",
    "car1=car()\n",
    "car1.wheels\n"
   ]
  },
  {
   "cell_type": "code",
   "execution_count": 15,
   "id": "f27c282c",
   "metadata": {},
   "outputs": [
    {
     "data": {
      "text/plain": [
       "'rolls'"
      ]
     },
     "execution_count": 15,
     "metadata": {},
     "output_type": "execute_result"
    }
   ],
   "source": [
    "#Instance Variables:\n",
    "#Specific to Each Instance: Instance variables are specific to each instance of the class. They are defined inside the class methods (usually within the constructor __init__) and are prefixed with self\n",
    "class car:\n",
    "    def __init__(self,brand):\n",
    "        self.brand=brand\n",
    "car1=car('tata')\n",
    "car2=car('rolls')\n",
    "\n",
    "car2.brand"
   ]
  },
  {
   "cell_type": "code",
   "execution_count": 21,
   "id": "5d62825a",
   "metadata": {},
   "outputs": [
    {
     "name": "stdout",
     "output_type": "stream",
     "text": [
      "tata\n"
     ]
    }
   ],
   "source": [
    "#6. What is the purpose of the self parameter in Python class methods?\n",
    "#the self parameter allows class methods to operate on the specific instance of the class, enabling object-specific behavior and maintaining the state of objects.\n",
    "class car:\n",
    "    def __init__(self,brand):\n",
    "        self.brand=brand\n",
    "        \n",
    "    def display_brand(self):\n",
    "        print(self.brand)\n",
    "        \n",
    "my_car=car('tata')\n",
    "my_car.display_brand()\n",
    "\n",
    "#Maintaining State: The self parameter ensures that the state of an object is \n",
    "#maintained between method calls\n",
    "\n"
   ]
  },
  {
   "cell_type": "code",
   "execution_count": 38,
   "id": "d937545c",
   "metadata": {},
   "outputs": [
    {
     "data": {
      "text/plain": [
       "1"
      ]
     },
     "execution_count": 38,
     "metadata": {},
     "output_type": "execute_result"
    }
   ],
   "source": [
    "#Maintaining State: The self parameter ensures that the state of an object is maintained between method calls\n",
    "class counter:\n",
    "    def __init__(self):\n",
    "        self.count=0\n",
    "        \n",
    "    def increment(self):\n",
    "        self.count+=1\n",
    "    \n",
    "counter1=counter()\n",
    "counter1.increment()\n",
    "counter1.count\n",
    "        "
   ]
  },
  {
   "cell_type": "code",
   "execution_count": 39,
   "id": "ff11deb8",
   "metadata": {},
   "outputs": [
    {
     "data": {
      "text/plain": [
       "2"
      ]
     },
     "execution_count": 39,
     "metadata": {},
     "output_type": "execute_result"
    }
   ],
   "source": [
    "counter1.increment()\n",
    "counter1.count\n",
    "        "
   ]
  },
  {
   "cell_type": "code",
   "execution_count": 43,
   "id": "e000cf42",
   "metadata": {},
   "outputs": [
    {
     "data": {
      "text/plain": [
       "True"
      ]
     },
     "execution_count": 43,
     "metadata": {},
     "output_type": "execute_result"
    }
   ],
   "source": [
    "#Creating Object-specific Behavior: Methods in a class can behave differently based on the instance's state. By using self to access instance variables, \n",
    "#methods can customize their behavior for each object.\n",
    "\n",
    "class person:\n",
    "    def __init__(self,age):\n",
    "        self.age=age\n",
    "        \n",
    "    def is_adult(self):\n",
    "        return self.age>=18\n",
    "    \n",
    "person1=person(35)\n",
    "person1.is_adult()"
   ]
  },
  {
   "cell_type": "code",
   "execution_count": null,
   "id": "0b337e62",
   "metadata": {},
   "outputs": [],
   "source": [
    "For a library management system, you have to design the \"Book\" class with OOP\n",
    "principles in mind. The “Book” class will have following attributes:\n",
    "a. title: Represents the title of the book.\n",
    "b. author: Represents the author(s) of the book.\n",
    "c. isbn: Represents the ISBN (International Standard Book Number) of the book.\n",
    "d. publication_year: Represents the year of publication of the book.\n",
    "e. available_copies: Represents the number of copies available for checkout.\n",
    "The class will also include the following methods:\n",
    "a. check_out(self): Decrements the available copies by one if there are copies\n",
    "available for checkout.\n",
    "b. return_book(self): Increments the available copies by one when a book is\n",
    "returned.\n",
    "c. display_book_info(self): Displays the information about the book, including its\n",
    "attributes and the number of available copies."
   ]
  },
  {
   "cell_type": "code",
   "execution_count": 54,
   "id": "f4b1c3f7",
   "metadata": {},
   "outputs": [],
   "source": [
    "class book:\n",
    "    def __init__(self,title,author,isbn,publication_year,available_copies):\n",
    "        self.title=title\n",
    "        self.author=author\n",
    "        self.isbn=isbn\n",
    "        self.publication_year=publication_year\n",
    "        self.available_copies=available_copies\n",
    "        \n",
    "    def check_out(self):\n",
    "        if self.available_copies>0:\n",
    "            self.available_copies-=1\n",
    "            print(f\"book{self.title} checked out successfully\")\n",
    "        else:\n",
    "            print(f\"book{self.title} is currently unavailable for checkout\")\n",
    "            \n",
    "    def return_book(self):\n",
    "        self.available_copies+=1\n",
    "        print(f\"book {self.title} returned successfully\")\n",
    "        \n",
    "    def display_book_info(self):\n",
    "        print(f\"title:{self.title}\")\n",
    "        print(f\"author:{self.author}\")\n",
    "        print(f\"isbn:{self.isbn}\")\n",
    "        print(f\"publication_year:{self.publication_year}\")\n",
    "        print(f\"available_copes:{self.available_copies}\")"
   ]
  },
  {
   "cell_type": "code",
   "execution_count": 56,
   "id": "56d80907",
   "metadata": {},
   "outputs": [
    {
     "name": "stdout",
     "output_type": "stream",
     "text": [
      "book information\n",
      "title:Introduction to Python\n",
      "author:John Smith\n",
      "isbn:978-0-13-449416-5\n",
      "publication_year:2021\n",
      "available_copes:5\n"
     ]
    }
   ],
   "source": [
    "# Example usage of the Book class\n",
    "if __name__ == \"__main__\":\n",
    "    # Creating a Book object\n",
    "    book1 = book(\"Introduction to Python\", \"John Smith\", \"978-0-13-449416-5\", 2021, 5)\n",
    "    \n",
    "    print(\"book information\")\n",
    "    book1.display_book_info() \n",
    "    "
   ]
  },
  {
   "cell_type": "markdown",
   "id": "1354ab8f",
   "metadata": {},
   "source": [
    "8. For a ticket booking system, you have to design the \"Ticket\" class with OOP\n",
    "principles in mind. The “Ticket” class should have the following attributes:\n",
    "a. ticket_id: Represents the unique identifier for the ticket.\n",
    "b. event_name: Represents the name of the event.\n",
    "c. event_date: Represents the date of the event.\n",
    "d. venue: Represents the venue of the event.\n",
    "e. seat_number: Represents the seat number associated with the ticket.\n",
    "f. price: Represents the price of the ticket.\n",
    "g. is_reserved: Represents the reservation status of the ticket.\n",
    "The class also includes the following methods:\n",
    "a. reserve_ticket(self): Marks the ticket as reserved if it is not already reserved.\n",
    "b. cancel_reservation(self): Cancels the reservation of the ticket if it is already\n",
    "reserved.\n",
    "c. display_ticket_info(self): Displays the information about the ticket, including its\n",
    "attributes and reservation status.\n",
    "\n",
    "\n"
   ]
  },
  {
   "cell_type": "code",
   "execution_count": null,
   "id": "d3d278c2",
   "metadata": {},
   "outputs": [],
   "source": [
    "class ticket:\n",
    "    def __init__(self,ticketid,event_name,event_date,venue,seat_number,price):\n",
    "        self.ticketid=ticketid\n",
    "        self.event_name=event_name\n",
    "        self.event_date=event_date\n",
    "        self.venue=venue\n",
    "        self.seat_number=seat_number\n",
    "        self.price=price\n",
    "        self.is_reserved=False\n",
    "        \n",
    "    def reserve_ticket(self):\n",
    "        if not self.is_reserved=True:\n",
    "            print(f\"ticket {self.ticketid} reserved successfully\")\n",
    "        else:\n",
    "            print(f\"ticket{self.ticketid} is already reserved\")\n",
    "            \n",
    "    def cancel_reservation(self):\n",
    "        if self.is_reserved:\n",
    "            self.is_reserved=False\n",
    "            print(f\"reservation for ticket {self.ticketid} cancelled successfully\")\n",
    "        else:\n",
    "            print(f\"ticket{self.ticketid} is not reserved\")\n",
    "            \n",
    "display_ticket_info(self):\n",
    "        print(f\"Ticket ID: {self.ticket_id}\")\n",
    "        print(f\"Event Name: {self.event_name}\")\n",
    "        print(f\"Event Date: {self.event_date}\")\n",
    "        print(f\"Venue: {self.venue}\")\n",
    "        print(f\"Seat Number: {self.seat_number}\")\n",
    "        print(f\"Price: {self.price}\")\n",
    "        print(f\"Reservation Status: {'Reserved' if self.is_reserved else 'Not Reserved'}\")"
   ]
  },
  {
   "cell_type": "code",
   "execution_count": null,
   "id": "034536bf",
   "metadata": {},
   "outputs": [],
   "source": [
    "9. You are creating a shopping cart for an e-commerce website. Using OOP to model\n",
    "the \"ShoppingCart\" functionality the class should contain following attributes and\n",
    "methods:\n",
    "a. items: Represents the list of items in the shopping cart.\n",
    "The class also includes the following methods:\n",
    "\n",
    "a. add_item(self, item): Adds an item to the shopping cart by appending it to the\n",
    "list of items.\n",
    "b. remove_item(self, item): Removes an item from the shopping cart if it exists in\n",
    "the list.\n",
    "c. view_cart(self): Displays the items currently present in the shopping cart.\n",
    "d. clear_cart(self): Clears all items from the shopping cart by reassigning an\n",
    "empty list to the items attribute."
   ]
  },
  {
   "cell_type": "code",
   "execution_count": 69,
   "id": "d74e444d",
   "metadata": {},
   "outputs": [],
   "source": [
    "class shoppingcart:\n",
    "    \n",
    "    def __init__(self):\n",
    "        self.items=[]\n",
    "        \n",
    "    def add_item(self,item):\n",
    "        self.items.append(item)\n",
    "        print(f\"item {item} added to shopping cart\")\n",
    "        \n",
    "    def remove_item(self,item):\n",
    "        if item in self.items:\n",
    "            self.items.remove(item)\n",
    "            print(f\"item{item} removed from shopping kart\")\n",
    "        else:\n",
    "            print(f\"{item} is not available in cart\")\n",
    "            \n",
    "    def viewcart(self):\n",
    "        if self.items:\n",
    "            print(\"items in shopping cart\")\n",
    "            for item in self.items:\n",
    "                print(item)\n",
    "        else:\n",
    "            print(\"the shopping cart is empty\")\n",
    "            \n",
    "            \n",
    "    def clearcart(self):\n",
    "        self.items=[]\n",
    "        print(\"alll items in shopping cart has been cleared\")"
   ]
  },
  {
   "cell_type": "code",
   "execution_count": 71,
   "id": "e9405b6c",
   "metadata": {},
   "outputs": [
    {
     "name": "stdout",
     "output_type": "stream",
     "text": [
      "item laptop added to shopping cart\n",
      "item headphones added to shopping cart\n",
      "item mouse added to shopping cart\n",
      "viewin the shopping cart\n",
      "items in shopping cart\n",
      "laptop\n",
      "headphones\n",
      "mouse\n",
      "headphhones is not available in cart\n",
      "items in shopping cart\n",
      "laptop\n",
      "headphones\n",
      "mouse\n",
      "alll items in shopping cart has been cleared\n",
      "the shopping cart is empty\n"
     ]
    }
   ],
   "source": [
    "if __name__==\"__main__\":\n",
    "    cart=shoppingcart()\n",
    "    \n",
    "    cart.add_item(\"laptop\")\n",
    "    cart.add_item(\"headphones\")\n",
    "    cart.add_item(\"mouse\")\n",
    "    \n",
    "    print(\"viewin the shopping cart\")\n",
    "    cart.viewcart()\n",
    "    \n",
    "    #removing the item from shopping cart\n",
    "    cart.remove_item(\"headphhones\")\n",
    "    \n",
    "    #viweing the cart items\n",
    "    cart.viewcart()\n",
    "    \n",
    "    \n",
    "    #clearing the cart\n",
    "    cart.clearcart()\n",
    "    \n",
    "    #viweing the cart items\n",
    "    cart.viewcart()\n",
    "    "
   ]
  },
  {
   "cell_type": "code",
   "execution_count": 66,
   "id": "05ee4cb5",
   "metadata": {},
   "outputs": [
    {
     "name": "stdout",
     "output_type": "stream",
     "text": [
      "the shopping cart is empty\n"
     ]
    }
   ],
   "source": [
    "cart.viewcart()"
   ]
  },
  {
   "cell_type": "code",
   "execution_count": 72,
   "id": "208a3bfc",
   "metadata": {},
   "outputs": [
    {
     "name": "stdout",
     "output_type": "stream",
     "text": [
      "headphones is not available in cart\n"
     ]
    }
   ],
   "source": [
    "cart.remove_item(\"headphones\")\n"
   ]
  },
  {
   "cell_type": "code",
   "execution_count": null,
   "id": "d927a90c",
   "metadata": {},
   "outputs": [],
   "source": [
    "#Imagine a school management system. You have to design the \"Student\" class using\n",
    "OOP concepts.The “Student” class has the following attributes:\n",
    "a. name: Represents the name of the student.\n",
    "b. age: Represents the age of the student.\n",
    "c. grade: Represents the grade or class of the student.\n",
    "d. student_id: Represents the unique identifier for the student.\n",
    "e. attendance: Represents the attendance record of the student.\n",
    "The class should also include the following methods:\n",
    "a. update_attendance(self, date, status): Updates the attendance record of the\n",
    "student for a given date with the provided status (e.g., present or absent).\n",
    "b. get_attendance(self): Returns the attendance record of the student.\n",
    "c. get_average_attendance(self): Calculates and returns the average\n",
    "attendance percentage of the student based on their attendance record."
   ]
  },
  {
   "cell_type": "code",
   "execution_count": 76,
   "id": "bc89822e",
   "metadata": {},
   "outputs": [],
   "source": [
    "class student:\n",
    "    def __init__(self,name,age,grade,studentid):\n",
    "        self.name=name\n",
    "        self.age=age\n",
    "        self.grade=grade\n",
    "        self.studentid=studentid\n",
    "        self.attendance={}\n",
    "        \n",
    "        \n",
    "    def update_attendance(self,date,status):\n",
    "        self.attendance[date]=status\n",
    "        print(f\"attendance for {date} has been updated successfully\")\n",
    "        \n",
    "    def get_attendance(self):\n",
    "        return self.attendance\n",
    "    \n",
    "    def get_average_student(self):\n",
    "        total_days=len(self.attendance)\n",
    "        if total_days==0:\n",
    "            return 0.0\n",
    "        present_days=sum(1 for status in self.attendance.values() if status==\"present\")\n",
    "        attendance_percentage=(present_days/total_days)*100\n",
    "        return round(attendance_percentage,2)\n",
    "        "
   ]
  },
  {
   "cell_type": "code",
   "execution_count": 77,
   "id": "5cb41b66",
   "metadata": {},
   "outputs": [
    {
     "name": "stdout",
     "output_type": "stream",
     "text": [
      "attendance for 11th may has been updated successfully\n"
     ]
    }
   ],
   "source": [
    "if __name__==\"__main__\":\n",
    "    student1=student(\"prashanth\",15,10,\"100\")\n",
    "    student1.update_attendance(\"11th may\",\"present\")"
   ]
  },
  {
   "cell_type": "code",
   "execution_count": 78,
   "id": "80489c3b",
   "metadata": {},
   "outputs": [
    {
     "data": {
      "text/plain": [
       "{'11th may': 'present'}"
      ]
     },
     "execution_count": 78,
     "metadata": {},
     "output_type": "execute_result"
    }
   ],
   "source": [
    "student1.get_attendance()"
   ]
  },
  {
   "cell_type": "code",
   "execution_count": 80,
   "id": "14e667a0",
   "metadata": {},
   "outputs": [
    {
     "data": {
      "text/plain": [
       "100.0"
      ]
     },
     "execution_count": 80,
     "metadata": {},
     "output_type": "execute_result"
    }
   ],
   "source": [
    "student1.get_average_student()"
   ]
  },
  {
   "cell_type": "code",
   "execution_count": null,
   "id": "dbfe415f",
   "metadata": {},
   "outputs": [],
   "source": []
  }
 ],
 "metadata": {
  "kernelspec": {
   "display_name": "Python 3 (ipykernel)",
   "language": "python",
   "name": "python3"
  },
  "language_info": {
   "codemirror_mode": {
    "name": "ipython",
    "version": 3
   },
   "file_extension": ".py",
   "mimetype": "text/x-python",
   "name": "python",
   "nbconvert_exporter": "python",
   "pygments_lexer": "ipython3",
   "version": "3.8.13"
  }
 },
 "nbformat": 4,
 "nbformat_minor": 5
}
