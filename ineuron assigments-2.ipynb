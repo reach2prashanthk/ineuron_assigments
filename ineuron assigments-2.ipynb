{
 "cells": [
  {
   "cell_type": "markdown",
   "id": "6349c2a9",
   "metadata": {},
   "source": [
    "# ineuron assignment2\n"
   ]
  },
  {
   "cell_type": "markdown",
   "id": "dc082751",
   "metadata": {},
   "source": [
    "1.What are the two values of the Boolean data type? How do you write them?\n",
    "\n",
    "Ans: True and False are the two values under boolean data type\n",
    "      result_t = 10 > 5  # result will be True\n",
    "      result_f = (5 == 6)  # is_equal will be false\n",
    "   \n",
    "2. What are the three different types of Boolean operators?\n",
    "\n",
    "Ans:  Logical AND(&): The logical AND operator returns true if both operands are true ex: result = (10 > 3) and (10 < 20)  result will be True\n",
    "\n",
    "      LogiCal OR(||):  The logical OR operator returns true if at least one of the operands is true ex: boolean result = (10 > 30) || (10 < 5);  // result will be true\n",
    "\n",
    "      Logical NOT(!):  The logical NOT operator is a unary operator that negates the boolean value of its operand. It returns true if the operand is false, and false if the operand is true\n",
    "      \n",
    " 3. Make a list of each Boolean operator, truth tables (i.e. every possible combination of Boolean values for the operator and what it evaluate ). \n",
    " \n",
    " \n",
    " AND Truth Table:\n",
    "\n",
    "        A\tB A AND B\n",
    "        0\t0\t0\n",
    "        0\t1\t0\n",
    "        1\t0\t0\n",
    "        1\t1\t1\n",
    "        \n",
    "        OR Truth Table:\n",
    "\n",
    "        A\tB A OR B\n",
    "        0\t0\t0\n",
    "        0\t1\t1\n",
    "        1\t0\t1\n",
    "        1\t1\t1\n",
    "        \n",
    "        NOT Truth Table:\n",
    "\n",
    "        A NOT A\n",
    "        0\t1\n",
    "        1\t0\n",
    "\n",
    "4. What are the values of the following expressions?\n",
    "q1: (5 > 4) and (3 == 5)  \n",
    "Ans: False\n",
    "\n",
    "not (5 > 4)\n",
    "Ans: False\n",
    "\n",
    "(5 > 4) or (3 == 5)\n",
    "Ans: True\n",
    "\n",
    "not ((5 > 4) or (3 == 5))\n",
    "Ans: False\n",
    "\n",
    "(True and True) and (True == False)\n",
    "Ans: False\n",
    "\n",
    "(not False) or (not True)\n",
    "Ans: True\n",
    "\n",
    "5. What are the six comparison operators?\n",
    "\n",
    "Equal to (==): It checks if two values are equal and returns True if they are, and False otherwise.\n",
    "\n",
    "Not equal to (!=): It checks if two values are not equal and returns True if they are not, and False otherwise.\n",
    "\n",
    "Greater than (>): It checks if the left operand is greater than the right operand and returns True if it is, and False otherwise.\n",
    "\n",
    "Less than (<): It checks if the left operand is less than the right operand and returns True if it is, and False otherwise.\n",
    "\n",
    "Greater than or equal to (>=): It checks if the left operand is greater than or equal to the right operand and returns True if it is, and False otherwise.\n",
    "\n",
    "Less than or equal to (<=): It checks if the left operand is less than or equal to the right operand and returns True if it is, and False otherwise.\n",
    "\n",
    "6. How do you tell the difference between the equal to and assignment operators?Describe a condition and when you would use one.\n",
    "\n",
    "ans:  we  Use the equal to operator (==) to compare values. for ex a=10,b=10, a==b=True\n",
    "      and Use the assignment operator (=) to assign a value to a variable. a=10, where the value a hold the variable 10\n",
    "      \n",
    "      \n",
    "7. Identify the three blocks in this code:\n",
    "      \n",
    "   block1=This block is an if statement that checks if the variable spam is equal to 10.if yes it executes the print statement 'eggs'.\n",
    "spam = 0\n",
    "if spam == 10:\n",
    "    print('eggs')\n",
    "    \n",
    "    \n",
    "    block2=This block is another if statement that checks if the variable spam is greater than 5. If yes it executes the print statement 'bacon'\n",
    "if (spam >5):\n",
    "    print('bacon')\n",
    "    \n",
    "    \n",
    "    block3=f the condition spam > 5 is not true, this block is executed. It includes three print statements: 'ham', 'spam', and 'spam'.\n",
    "else:\n",
    "    print('ham')\n",
    "    print('spam')\n",
    "    print('spam')\n",
    "\n",
    "\n",
    "8. Write code that prints Hello if 1 is stored in spam, prints Howdy if 2 is stored in spam, and printsGreetings! if anything else is stored in spam.\n",
    "\n",
    "spam=1\n",
    "if spam==1:\n",
    "    print('Hello')\n",
    "elif spam==2:\n",
    "    print('Howdy')\n",
    "else:\n",
    "    print('Greetings')\n",
    "    \n",
    "    \n",
    "    \n",
    " 9.If your programme is stuck in an endless loop, what keys you’ll press?\n",
    " \n",
    "we can press  Ctrl+C to terminate the endless loop sometimes inturupting the kernal and final step is close the terminal and relaunch the programme\n",
    "\n",
    "\n",
    "\n",
    "\n"
   ]
  },
  {
   "cell_type": "code",
   "execution_count": 25,
   "id": "f13c919a",
   "metadata": {},
   "outputs": [
    {
     "name": "stdout",
     "output_type": "stream",
     "text": [
      "Hello\n"
     ]
    }
   ],
   "source": [
    "#8. Write code that prints Hello if 1 is stored in spam, prints Howdy if 2 is stored in spam, and printsGreetings! if anything else is stored in spam.\n",
    "\n",
    "spam=1\n",
    "if spam==1:\n",
    "    print('Hello')\n",
    "elif spam==2:\n",
    "    print('Howdy')\n",
    "else:\n",
    "    print('Greetings')"
   ]
  },
  {
   "cell_type": "code",
   "execution_count": 36,
   "id": "bab032ab",
   "metadata": {},
   "outputs": [
    {
     "name": "stdout",
     "output_type": "stream",
     "text": [
      "1\n",
      "2\n",
      "3\n",
      "10\n",
      "11\n",
      "12\n",
      "13\n",
      "15\n",
      "16\n",
      "17\n",
      "18\n",
      "19\n"
     ]
    }
   ],
   "source": [
    "# 10. How can you tell the difference between break and continue?\n",
    "\n",
    "#ans: The break statement terminates the loop entirely, regardless of any remaining iterations.\n",
    "\n",
    "for i in range(1,5):\n",
    "    if i==4:\n",
    "        break\n",
    "    print(i)\n",
    "    \n",
    "\n",
    "    \n",
    "    #The continue statement is used to skip the rest of the code inside the loop for the current iteration and move on to the next iteration\n",
    "\n",
    "for i in range(10,20):\n",
    "    \n",
    "    if i==14:\n",
    "        continue\n",
    "    print(i)  \n"
   ]
  },
  {
   "cell_type": "code",
   "execution_count": 38,
   "id": "906ea2a4",
   "metadata": {},
   "outputs": [
    {
     "name": "stdout",
     "output_type": "stream",
     "text": [
      "0\n",
      "1\n",
      "2\n",
      "3\n",
      "4\n",
      "5\n",
      "6\n",
      "7\n",
      "8\n",
      "9\n"
     ]
    }
   ],
   "source": [
    "#11. In a for loop, what is the difference between range(10), range(0, 10), and range(0, 10, 1)?\n",
    "\n",
    "\n",
    "Ans: range(10), range(0, 10), and range(0, 10, 1) produce the same sequence of values from 0 to 9 in increments of 1,  default start being 0 and the default step being 1\n",
    "for i in range(10):\n",
    "    print(i)\n"
   ]
  },
  {
   "cell_type": "code",
   "execution_count": 39,
   "id": "4945e4bc",
   "metadata": {},
   "outputs": [
    {
     "name": "stdout",
     "output_type": "stream",
     "text": [
      "0\n",
      "1\n",
      "2\n",
      "3\n",
      "4\n",
      "5\n",
      "6\n",
      "7\n",
      "8\n",
      "9\n"
     ]
    }
   ],
   "source": [
    "\n",
    "for i in range(0, 10):\n",
    "    print(i)"
   ]
  },
  {
   "cell_type": "code",
   "execution_count": 40,
   "id": "5808a3dd",
   "metadata": {},
   "outputs": [
    {
     "name": "stdout",
     "output_type": "stream",
     "text": [
      "0\n",
      "1\n",
      "2\n",
      "3\n",
      "4\n",
      "5\n",
      "6\n",
      "7\n",
      "8\n",
      "9\n"
     ]
    }
   ],
   "source": [
    "for i in range(0, 10,1):\n",
    "    print(i)"
   ]
  },
  {
   "cell_type": "code",
   "execution_count": 45,
   "id": "a6a984e7",
   "metadata": {},
   "outputs": [
    {
     "name": "stdout",
     "output_type": "stream",
     "text": [
      "1\n",
      "2\n",
      "3\n",
      "4\n",
      "5\n",
      "6\n",
      "7\n",
      "8\n",
      "9\n",
      "10\n"
     ]
    }
   ],
   "source": [
    "#12.Write a short program that prints the numbers 1 to 10 using a for loop. Then write an equivalent program that prints the numbers 1 to 10 using a while loop.\n",
    "\n",
    "for i in range(1,11):\n",
    "    print(i)\n"
   ]
  },
  {
   "cell_type": "code",
   "execution_count": null,
   "id": "02691d25",
   "metadata": {},
   "outputs": [],
   "source": []
  },
  {
   "cell_type": "code",
   "execution_count": 44,
   "id": "fcaa9aa6",
   "metadata": {
    "scrolled": true
   },
   "outputs": [
    {
     "name": "stdout",
     "output_type": "stream",
     "text": [
      "1\n",
      "2\n",
      "3\n",
      "4\n",
      "5\n",
      "6\n",
      "7\n",
      "8\n",
      "9\n",
      "10\n"
     ]
    }
   ],
   "source": [
    "i=0\n",
    "while i<10:\n",
    "    i=i+1\n",
    "    print(i)"
   ]
  },
  {
   "cell_type": "code",
   "execution_count": null,
   "id": "2a97a99b",
   "metadata": {},
   "outputs": [],
   "source": [
    "#13. If you had a function named bacon() inside a module named spam, how would you call it after importing spam?\n",
    "\n",
    "import spam\n",
    "spam.bacon()"
   ]
  }
 ],
 "metadata": {
  "kernelspec": {
   "display_name": "Python 3 (ipykernel)",
   "language": "python",
   "name": "python3"
  },
  "language_info": {
   "codemirror_mode": {
    "name": "ipython",
    "version": 3
   },
   "file_extension": ".py",
   "mimetype": "text/x-python",
   "name": "python",
   "nbconvert_exporter": "python",
   "pygments_lexer": "ipython3",
   "version": "3.8.13"
  }
 },
 "nbformat": 4,
 "nbformat_minor": 5
}
