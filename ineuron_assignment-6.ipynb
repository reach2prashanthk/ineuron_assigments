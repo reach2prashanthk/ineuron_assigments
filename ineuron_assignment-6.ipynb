{
 "cells": [
  {
   "cell_type": "code",
   "execution_count": 1,
   "id": "fc4c7972",
   "metadata": {},
   "outputs": [
    {
     "name": "stdout",
     "output_type": "stream",
     "text": [
      "['False', 'None', 'True', 'and', 'as', 'assert', 'async', 'await', 'break', 'class', 'continue', 'def', 'del', 'elif', 'else', 'except', 'finally', 'for', 'from', 'global', 'if', 'import', 'in', 'is', 'lambda', 'nonlocal', 'not', 'or', 'pass', 'raise', 'return', 'try', 'while', 'with', 'yield']\n"
     ]
    }
   ],
   "source": [
    "#Q.1. What are keywords in python? Using the keyword library, print all the python keywords.\n",
    "#Ans: Keywords in Python are reserved words that have special meanings and functionalities within the language\n",
    "    #Some examples of Python keywords are if, else, while, for, def, import, class\n",
    "\n",
    "\n",
    "import keyword\n",
    "all_keyword=keyword.kwlist\n",
    "print(all_keyword)"
   ]
  },
  {
   "cell_type": "markdown",
   "id": "fb3c5fd5",
   "metadata": {},
   "source": [
    "#Q.2. What are the rules to create variables in python?\n",
    "Ans: Variable names must begin with a letter (a-z, A-Z) or an underscore (_).\n",
    "     The first character of a variable name cannot be a number (0-9).\n",
    "     variable names are case-sensitive. For example, myVariable and myvariable are considered different variables.\n",
    "     Variable names should not be the same as Python keywords, as they are reserved for specific purposes within the language (e.g., if, else, while, etc.).\n",
    "     \n",
    "    \n",
    "    "
   ]
  },
  {
   "cell_type": "markdown",
   "id": "a48b66af",
   "metadata": {},
   "source": [
    "#Q.3. What are the standards and conventions followed for the nomenclature of variables in\n",
    "      python to improve code readability and maintainability?\n",
    "    \n",
    "    Ans: Use lowercase letters: Variable names should be in lowercase, and words should be separated by underscores\n",
    "            (\"snake_case\"). For example: user_name, age, total_count\n",
    "        Avoid reserved words: Do not use Python keywords or built-in function names as variable names. \n",
    "                    For example, avoid using print, input, list, etc.\n",
    "        Protected variables: Variables that are intended for limited use but still accessible from subclasses should \n",
    "                    start with a double leading underscore. For example: __protected_variable\n",
    "        Constants should be in uppercase: If you have a constant value, like a configuration setting that should not be changed,\n",
    "            use all uppercase letters and underscores for the variable name. For example: MAX_RETRY, PI\n",
    "        \n",
    "                \n",
    "        "
   ]
  },
  {
   "cell_type": "markdown",
   "id": "300fb768",
   "metadata": {},
   "source": [
    "#Q.4. What will happen if a keyword is used as a variable name?\n",
    "  Ans: if you try to use a keyword like if, else, def, while, or any other Python keyword as a \n",
    "        variable name, the interpreter will raise a syntax error\n"
   ]
  },
  {
   "cell_type": "markdown",
   "id": "85b1d243",
   "metadata": {},
   "source": [
    "Q.5. For what purpose def keyword is used?\n",
    "\n",
    "\n",
    "    Ans: The def keyword in Python is used to define user-defined functions.\n",
    "        Functions are blocks of organized, reusable code that perform a specific task\n",
    "        \n",
    "  for ex: def add_numbers(a, b):\n",
    "                result = a + b\n",
    "                 return result"
   ]
  },
  {
   "cell_type": "markdown",
   "id": "932ff52b",
   "metadata": {},
   "source": [
    "#Q.6. What is the operation of this special character ‘\\’?\n",
    "  Ans: \\\\: Backslash - Used to include a backslash within a string.\n",
    "        \\n: Newline - Represents a line break.\n",
    "       \\t: Tab - Represents a horizontal tab.\n",
    "       \\b: Backspace - Represents a backspace.\n",
    "\n"
   ]
  },
  {
   "cell_type": "markdown",
   "id": "b4287f0e",
   "metadata": {},
   "source": [
    "Q.7. Give an example of the following conditions:\n",
    "(i) Homogeneous list\n",
    "Ans:A homogeneous list contains elements of the same data type.\n",
    "(ii) Heterogeneous set\n",
    "A heterogeneous set contains elements of different data types\n",
    "Ans: homogeneous_list_str = [\"apple\", \"banana\", \"orange\", \"grape\"]\n",
    "\n",
    "\n",
    "(iii) Homogeneous tuple\n",
    "A homogeneous tuple contains elements of the same data type\n",
    "Ans: homogeneous_tuple_int = (10, 20, 30, 40, 50)\n"
   ]
  },
  {
   "cell_type": "code",
   "execution_count": 2,
   "id": "740b0ee4",
   "metadata": {},
   "outputs": [
    {
     "name": "stdout",
     "output_type": "stream",
     "text": [
      "[1, 2, 3, 4]\n"
     ]
    }
   ],
   "source": [
    "#Q.8. Explain the mutable and immutable data types with proper explanation & examples.\n",
    "\n",
    "#Ans: Mutable Data Types:\n",
    "#Mutable data types are those whose values can be changed or modified after their creation. \n",
    "#list: Lists are mutable ordered collections of elements. Elements can be added, removed, or modified within a list after its creation.\n",
    "    \n",
    "list1 = [1, 2, 3]\n",
    "list1.append(4)  # Modifying the list by adding a new element\n",
    "print(list1)\n"
   ]
  },
  {
   "cell_type": "code",
   "execution_count": 4,
   "id": "ef28615c",
   "metadata": {},
   "outputs": [],
   "source": [
    "#dict: Dictionaries are mutable collections of key-value pairs. The values associated with keys can be modified or new key-value pairs can be added\n",
    "\n",
    "dict={'a':1, 'b':2,'c': 3}"
   ]
  },
  {
   "cell_type": "code",
   "execution_count": 11,
   "id": "106f6f96",
   "metadata": {},
   "outputs": [
    {
     "data": {
      "text/plain": [
       "{'a': 1, 'b': 2, 'c': 3, 'k': 8}"
      ]
     },
     "execution_count": 11,
     "metadata": {},
     "output_type": "execute_result"
    }
   ],
   "source": [
    "dict.update(k=8)\n",
    "dict"
   ]
  },
  {
   "cell_type": "code",
   "execution_count": 21,
   "id": "dd74f702",
   "metadata": {},
   "outputs": [],
   "source": [
    "#set: Sets are mutable unordered collections of unique elements. Elements can be added or removed from a set after its creation.\n",
    "set1= {9, 2,2,3}"
   ]
  },
  {
   "cell_type": "code",
   "execution_count": null,
   "id": "bf22cda7",
   "metadata": {},
   "outputs": [],
   "source": []
  },
  {
   "cell_type": "code",
   "execution_count": 22,
   "id": "cc084bbb",
   "metadata": {},
   "outputs": [],
   "source": [
    "set1.add(7)"
   ]
  },
  {
   "cell_type": "code",
   "execution_count": 23,
   "id": "d81b552d",
   "metadata": {},
   "outputs": [
    {
     "data": {
      "text/plain": [
       "{2, 3, 7, 9}"
      ]
     },
     "execution_count": 23,
     "metadata": {},
     "output_type": "execute_result"
    }
   ],
   "source": [
    "set1"
   ]
  },
  {
   "cell_type": "code",
   "execution_count": 24,
   "id": "cb91a01e",
   "metadata": {},
   "outputs": [
    {
     "ename": "AttributeError",
     "evalue": "'tuple' object has no attribute 'add'",
     "output_type": "error",
     "traceback": [
      "\u001b[1;31m---------------------------------------------------------------------------\u001b[0m",
      "\u001b[1;31mAttributeError\u001b[0m                            Traceback (most recent call last)",
      "Cell \u001b[1;32mIn[24], line 3\u001b[0m\n\u001b[0;32m      1\u001b[0m \u001b[38;5;66;03m#TUPLE: TUPLE are IMmutable ordered collections of elements. Elements canT be added, removed, or modified within a TUPLE after its creation.\u001b[39;00m\n\u001b[0;32m      2\u001b[0m tuple1\u001b[38;5;241m=\u001b[39m(\u001b[38;5;241m3\u001b[39m,\u001b[38;5;241m6\u001b[39m,\u001b[38;5;241m5\u001b[39m,\u001b[38;5;241m4\u001b[39m)\n\u001b[1;32m----> 3\u001b[0m \u001b[43mtuple1\u001b[49m\u001b[38;5;241;43m.\u001b[39;49m\u001b[43madd\u001b[49m(\u001b[38;5;241m4\u001b[39m)\n",
      "\u001b[1;31mAttributeError\u001b[0m: 'tuple' object has no attribute 'add'"
     ]
    }
   ],
   "source": [
    "#TUPLE: TUPLE are IMmutable ordered collections of elements. Elements canT be added, removed, or modified within a TUPLE after its creation.\n",
    "tuple1=(3,6,5,4)\n",
    "tuple1."
   ]
  },
  {
   "cell_type": "code",
   "execution_count": 27,
   "id": "9c24b890",
   "metadata": {},
   "outputs": [
    {
     "data": {
      "text/plain": [
       "3"
      ]
     },
     "execution_count": 27,
     "metadata": {},
     "output_type": "execute_result"
    }
   ],
   "source": [
    "#but we can access tuple elements \n",
    "tuple1[0]"
   ]
  },
  {
   "cell_type": "code",
   "execution_count": 50,
   "id": "d5027c13",
   "metadata": {},
   "outputs": [
    {
     "name": "stdout",
     "output_type": "stream",
     "text": [
      "          * \n",
      "        * * * \n",
      "      * * * * * \n",
      "    * * * * * * * \n",
      "  * * * * * * * * * \n"
     ]
    }
   ],
   "source": [
    "#Q.9. Write a code to create the given structure using only for loop.\n",
    "n=5\n",
    "for i in range(n):\n",
    "    for j in range(i,n):\n",
    "        print(\" \",end=\" \")\n",
    "    for l in range(i):\n",
    "        print('*',end=\" \")\n",
    "    for k in range(i+1):\n",
    "        print(\"*\",end=\" \")\n",
    "        \n",
    "    print()"
   ]
  },
  {
   "cell_type": "code",
   "execution_count": 57,
   "id": "5409fe09",
   "metadata": {},
   "outputs": [
    {
     "name": "stdout",
     "output_type": "stream",
     "text": [
      "|||||||\n",
      "\n",
      "||||||\n",
      "\n",
      "|||||\n",
      "\n",
      "||||\n",
      "\n",
      "|||\n",
      "\n",
      "||\n",
      "\n",
      "|\n",
      "\n",
      "\n",
      "\n"
     ]
    }
   ],
   "source": [
    "#Q.10. Write a code to create the given structure using while loop.\n",
    "\n",
    "\n",
    "n=8\n",
    "i=1\n",
    "while i<=n:\n",
    "    print(\"|\"*(n-i))\n",
    "    i=i+1\n",
    "    print()\n",
    "    \n"
   ]
  }
 ],
 "metadata": {
  "kernelspec": {
   "display_name": "Python 3 (ipykernel)",
   "language": "python",
   "name": "python3"
  },
  "language_info": {
   "codemirror_mode": {
    "name": "ipython",
    "version": 3
   },
   "file_extension": ".py",
   "mimetype": "text/x-python",
   "name": "python",
   "nbconvert_exporter": "python",
   "pygments_lexer": "ipython3",
   "version": "3.8.0"
  }
 },
 "nbformat": 4,
 "nbformat_minor": 5
}
