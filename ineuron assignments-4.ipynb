{
 "cells": [
  {
   "cell_type": "markdown",
   "id": "6af92013",
   "metadata": {},
   "source": [
    "# ineuron assignment 4"
   ]
  },
  {
   "cell_type": "markdown",
   "id": "1fa3a9e8",
   "metadata": {},
   "source": [
    "1. What exactly is []?\n",
    "\n",
    "ex: Empty List: [] represents an empty list. It is often used as a starting point for creating lists that will be inserted with elements later.\n",
    "\n",
    "empty_list = []  # Empty list\n",
    "\n",
    "print(empty_list)        # Output: []\n"
   ]
  },
  {
   "cell_type": "code",
   "execution_count": 57,
   "id": "a325ddcf",
   "metadata": {},
   "outputs": [
    {
     "name": "stdout",
     "output_type": "stream",
     "text": [
      "[2, 4, 6, 8, 10]\n"
     ]
    }
   ],
   "source": [
    "#2. In a list of values stored in a variable called spam, how would you assign the value 'hello' as the\n",
    "# third value? (Assume [2, 4, 6, 8, 10] are in spam.)\n",
    "spam=[2,4,6,8,10]\n",
    "print(spam)"
   ]
  },
  {
   "cell_type": "code",
   "execution_count": 59,
   "id": "ed49ca38",
   "metadata": {},
   "outputs": [],
   "source": [
    "spam[2]='hello'"
   ]
  },
  {
   "cell_type": "code",
   "execution_count": 60,
   "id": "85bb7238",
   "metadata": {},
   "outputs": [
    {
     "name": "stdout",
     "output_type": "stream",
     "text": [
      "[2, 4, 'hello', 8, 10]\n"
     ]
    }
   ],
   "source": [
    "print(spam)"
   ]
  },
  {
   "cell_type": "code",
   "execution_count": 61,
   "id": "21aaa853",
   "metadata": {},
   "outputs": [],
   "source": [
    "#Lets pretend the spam includes the list [a,b,c,d] for the next three queries."
   ]
  },
  {
   "cell_type": "code",
   "execution_count": 64,
   "id": "94289409",
   "metadata": {},
   "outputs": [
    {
     "data": {
      "text/plain": [
       "'d'"
      ]
     },
     "execution_count": 64,
     "metadata": {},
     "output_type": "execute_result"
    }
   ],
   "source": [
    "spam=['a','b','c','d']\n",
    "#3. What is the value of spam[int(int('3' * 2) / 11)]?\n",
    "spam[int(int('3' * 2) / 11)]"
   ]
  },
  {
   "cell_type": "code",
   "execution_count": 66,
   "id": "64b8d6c2",
   "metadata": {},
   "outputs": [
    {
     "data": {
      "text/plain": [
       "'d'"
      ]
     },
     "execution_count": 66,
     "metadata": {},
     "output_type": "execute_result"
    }
   ],
   "source": [
    "#4. What is the value of spam[-1]?\n",
    "spam[-1]"
   ]
  },
  {
   "cell_type": "code",
   "execution_count": 67,
   "id": "e004c03c",
   "metadata": {},
   "outputs": [
    {
     "data": {
      "text/plain": [
       "['a', 'b']"
      ]
     },
     "execution_count": 67,
     "metadata": {},
     "output_type": "execute_result"
    }
   ],
   "source": [
    "#5. What is the value of spam[:2]?\n",
    "spam[:2]"
   ]
  },
  {
   "cell_type": "code",
   "execution_count": 70,
   "id": "7348ba1b",
   "metadata": {},
   "outputs": [],
   "source": [
    "#Lets pretend bacon has the list [3.14, 'cat', 11, cat, True] for the next three questions.\n",
    "\n",
    "bacon= [3.14, 'cat', 11, 'cat', True]\n"
   ]
  },
  {
   "cell_type": "code",
   "execution_count": 71,
   "id": "686dec50",
   "metadata": {},
   "outputs": [
    {
     "data": {
      "text/plain": [
       "1"
      ]
     },
     "execution_count": 71,
     "metadata": {},
     "output_type": "execute_result"
    }
   ],
   "source": [
    "#What is the value of bacon.index('cat')?\n",
    "bacon.index('cat')"
   ]
  },
  {
   "cell_type": "code",
   "execution_count": 82,
   "id": "eb2bb7ff",
   "metadata": {},
   "outputs": [
    {
     "data": {
      "text/plain": [
       "[3.14, 'cat', 11, 'cat', True, 99]"
      ]
     },
     "execution_count": 82,
     "metadata": {},
     "output_type": "execute_result"
    }
   ],
   "source": [
    "#7. How does bacon.append(99) change the look of the list value in bacon?\n",
    "bacon.append(99)\n",
    "bacon"
   ]
  },
  {
   "cell_type": "code",
   "execution_count": 83,
   "id": "b00b2022",
   "metadata": {},
   "outputs": [],
   "source": [
    "#8. How does bacon.remove('cat') change the look of the list in bacon?\n",
    "bacon.remove('cat')"
   ]
  },
  {
   "cell_type": "code",
   "execution_count": 84,
   "id": "e13c3482",
   "metadata": {},
   "outputs": [
    {
     "data": {
      "text/plain": [
       "[3.14, 11, 'cat', True, 99]"
      ]
     },
     "execution_count": 84,
     "metadata": {},
     "output_type": "execute_result"
    }
   ],
   "source": [
    "bacon"
   ]
  },
  {
   "cell_type": "code",
   "execution_count": 85,
   "id": "6592ea56",
   "metadata": {},
   "outputs": [
    {
     "name": "stdout",
     "output_type": "stream",
     "text": [
      "[1, 2, 3, 4, 5, 6]\n"
     ]
    }
   ],
   "source": [
    "#9. What are the list concatenation and list replication operators?\n",
    "\n",
    "#Ans: concatenation will be done by '+' operator and 'replication' can be done by '*' operator\n",
    "\n",
    "a= [1, 2, 3]\n",
    "b = [4, 5, 6]\n",
    "concatenated_list = a+b\n",
    "print(concatenated_list)"
   ]
  },
  {
   "cell_type": "code",
   "execution_count": 87,
   "id": "6a44be74",
   "metadata": {},
   "outputs": [
    {
     "data": {
      "text/plain": [
       "[1, 2, 3, 1, 2, 3, 1, 2, 3]"
      ]
     },
     "execution_count": 87,
     "metadata": {},
     "output_type": "execute_result"
    }
   ],
   "source": [
    "replicated_list= a*3\n",
    "replicated_list"
   ]
  },
  {
   "cell_type": "code",
   "execution_count": 89,
   "id": "ccac9472",
   "metadata": {},
   "outputs": [
    {
     "data": {
      "text/plain": [
       "[1, 2, 3, 4, 'hello']"
      ]
     },
     "execution_count": 89,
     "metadata": {},
     "output_type": "execute_result"
    }
   ],
   "source": [
    "#10. What is difference between the list methods append() and insert()?\n",
    "\n",
    "#ans: The append() method is used to add an element at the end of a list.\n",
    "a=[1,2,3,4]\n",
    "a.append('hello')\n",
    "a"
   ]
  },
  {
   "cell_type": "code",
   "execution_count": null,
   "id": "5b3b3a23",
   "metadata": {},
   "outputs": [],
   "source": []
  },
  {
   "cell_type": "code",
   "execution_count": 91,
   "id": "207214f2",
   "metadata": {},
   "outputs": [
    {
     "data": {
      "text/plain": [
       "['hello', 1, 2, 3, 4]"
      ]
     },
     "execution_count": 91,
     "metadata": {},
     "output_type": "execute_result"
    }
   ],
   "source": [
    "#insert() method is used to add an element at a specific index position within a list.\n",
    "b=[1,2,3,4]\n",
    "b.insert(0,'hello')\n",
    "b"
   ]
  },
  {
   "cell_type": "code",
   "execution_count": null,
   "id": "006cfe15",
   "metadata": {},
   "outputs": [],
   "source": [
    "#11. What are the two methods for removing items from a list?\n",
    "\n",
    "#Ans: pop and remove are two functions used to remoe the elements of a list"
   ]
  },
  {
   "cell_type": "code",
   "execution_count": 94,
   "id": "ed0f245d",
   "metadata": {},
   "outputs": [],
   "source": [
    "#The remove() method is used to remove the first occurrence of\n",
    "#a specified element from a list\n",
    "a=[1,2,3,4]\n",
    "a.remove(2)"
   ]
  },
  {
   "cell_type": "code",
   "execution_count": 95,
   "id": "3e59c885",
   "metadata": {},
   "outputs": [
    {
     "data": {
      "text/plain": [
       "[1, 3, 4]"
      ]
     },
     "execution_count": 95,
     "metadata": {},
     "output_type": "execute_result"
    }
   ],
   "source": [
    "a"
   ]
  },
  {
   "cell_type": "code",
   "execution_count": 105,
   "id": "90448bd5",
   "metadata": {},
   "outputs": [
    {
     "data": {
      "text/plain": [
       "4"
      ]
     },
     "execution_count": 105,
     "metadata": {},
     "output_type": "execute_result"
    }
   ],
   "source": [
    "##The remove() method is used to remove the last  occurrence of\n",
    "#an element from a list\n",
    "b=[1,2,3,4]\n",
    "b.pop()"
   ]
  },
  {
   "cell_type": "code",
   "execution_count": 104,
   "id": "592d5b73",
   "metadata": {
    "scrolled": true
   },
   "outputs": [
    {
     "data": {
      "text/plain": [
       "[1, 2, 3]"
      ]
     },
     "execution_count": 104,
     "metadata": {},
     "output_type": "execute_result"
    }
   ],
   "source": [
    "b"
   ]
  },
  {
   "cell_type": "code",
   "execution_count": 106,
   "id": "e5a9143b",
   "metadata": {},
   "outputs": [],
   "source": [
    "#12. Describe how list values and string values are identical.\n",
    "\n",
    "\n",
    "#Ans: #Sequence Types: Both lists and strings are sequence types in Python.  They allow multiple values or characters to be stored in an ordered manner.\n",
    "      # Indexing and Slicing: Both lists and strings support indexing and slicing operations. \n",
    "      # Both lists and strings can be iterated over using loops, such as for loops, allowing you to process each element or character sequentially."
   ]
  },
  {
   "cell_type": "code",
   "execution_count": 107,
   "id": "d4519201",
   "metadata": {},
   "outputs": [],
   "source": [
    "a=[1,2,3,4]\n",
    "b='hello'"
   ]
  },
  {
   "cell_type": "code",
   "execution_count": 108,
   "id": "c63abef4",
   "metadata": {},
   "outputs": [
    {
     "data": {
      "text/plain": [
       "(1, 'h')"
      ]
     },
     "execution_count": 108,
     "metadata": {},
     "output_type": "execute_result"
    }
   ],
   "source": [
    "a[0],b[0]"
   ]
  },
  {
   "cell_type": "code",
   "execution_count": 110,
   "id": "3fbef8aa",
   "metadata": {},
   "outputs": [
    {
     "name": "stdout",
     "output_type": "stream",
     "text": [
      "1\n",
      "2\n",
      "3\n",
      "4\n",
      "h\n",
      "e\n",
      "l\n",
      "l\n",
      "o\n"
     ]
    }
   ],
   "source": [
    "for i in a:\n",
    "    print(i)\n",
    "for i in b:\n",
    "    print(i)"
   ]
  },
  {
   "cell_type": "code",
   "execution_count": 131,
   "id": "e6e71542",
   "metadata": {},
   "outputs": [
    {
     "data": {
      "text/plain": [
       "[1, 2, 3, 4, 9]"
      ]
     },
     "execution_count": 131,
     "metadata": {},
     "output_type": "execute_result"
    }
   ],
   "source": [
    "#13. What are  the difference between tuples and lists\n",
    "\n",
    "#Mutability: Lists are mutable, meaning their elements can be modified, added, or removed after creation. In contrast, tuples are immutable\n",
    "c=[1,2,3,4]\n",
    "c.append(9)\n",
    "c"
   ]
  },
  {
   "cell_type": "code",
   "execution_count": 138,
   "id": "ed2aada6",
   "metadata": {},
   "outputs": [
    {
     "ename": "AttributeError",
     "evalue": "'tuple' object has no attribute 'append'",
     "output_type": "error",
     "traceback": [
      "\u001b[1;31m---------------------------------------------------------------------------\u001b[0m",
      "\u001b[1;31mAttributeError\u001b[0m                            Traceback (most recent call last)",
      "Cell \u001b[1;32mIn[138], line 2\u001b[0m\n\u001b[0;32m      1\u001b[0m d\u001b[38;5;241m=\u001b[39m(\u001b[38;5;124m'\u001b[39m\u001b[38;5;124ma\u001b[39m\u001b[38;5;124m'\u001b[39m,\u001b[38;5;124m'\u001b[39m\u001b[38;5;124mb\u001b[39m\u001b[38;5;124m'\u001b[39m,\u001b[38;5;124m'\u001b[39m\u001b[38;5;124mc\u001b[39m\u001b[38;5;124m'\u001b[39m,\u001b[38;5;124m'\u001b[39m\u001b[38;5;124md\u001b[39m\u001b[38;5;124m'\u001b[39m,\u001b[38;5;241m1\u001b[39m,\u001b[38;5;241m2\u001b[39m,\u001b[38;5;241m3\u001b[39m)\n\u001b[1;32m----> 2\u001b[0m \u001b[43md\u001b[49m\u001b[38;5;241;43m.\u001b[39;49m\u001b[43mappend\u001b[49m(\u001b[38;5;241m5\u001b[39m)\n",
      "\u001b[1;31mAttributeError\u001b[0m: 'tuple' object has no attribute 'append'"
     ]
    }
   ],
   "source": [
    "d=('a','b','c','d',1,2,3)\n",
    "d.append(5)"
   ]
  },
  {
   "cell_type": "code",
   "execution_count": 139,
   "id": "69ffec71",
   "metadata": {},
   "outputs": [],
   "source": [
    "#Lists are represented by square brackets [], whereas tuples are represented by parentheses ()\n",
    "my_list = [1, 2, 3]        # List\n",
    "my_tuple = (1, 2, 3)       # Tuple (with parentheses)"
   ]
  },
  {
   "cell_type": "code",
   "execution_count": 140,
   "id": "7b8ce19c",
   "metadata": {},
   "outputs": [],
   "source": [
    "#faster execution: Tuples are generally more lightweight and have slightly faster performance compared to lists."
   ]
  },
  {
   "cell_type": "code",
   "execution_count": 144,
   "id": "08698178",
   "metadata": {},
   "outputs": [
    {
     "data": {
      "text/plain": [
       "(42,)"
      ]
     },
     "execution_count": 144,
     "metadata": {},
     "output_type": "execute_result"
    }
   ],
   "source": [
    "#14. How do you type a tuple value that only contains the integer 42?\n",
    "#Ans: To create a tuple value that only contains the integer 42, you can use parentheses () and place the integer value within them. Here's an example:\n",
    "f=(42,)\n",
    "f"
   ]
  },
  {
   "cell_type": "code",
   "execution_count": 147,
   "id": "82fb4319",
   "metadata": {},
   "outputs": [
    {
     "data": {
      "text/plain": [
       "[1, 2, 3, 4]"
      ]
     },
     "execution_count": 147,
     "metadata": {},
     "output_type": "execute_result"
    }
   ],
   "source": [
    "#15. How do you get a list values tuple form? How do you get a tuple values list form?\n",
    "#ans o convert a list value to its tuple form, you can use the tuple() function\n",
    "my_tuple=(1,2,3,4)\n",
    "my_list=list(my_tuple)\n",
    "my_list"
   ]
  },
  {
   "cell_type": "code",
   "execution_count": 150,
   "id": "6c172c3b",
   "metadata": {},
   "outputs": [
    {
     "data": {
      "text/plain": [
       "('a', 'b', 'c', 'd')"
      ]
     },
     "execution_count": 150,
     "metadata": {},
     "output_type": "execute_result"
    }
   ],
   "source": [
    "#my_list is converted to a tuple using the tuple() function\n",
    "my_list=['a','b','c','d']\n",
    "my_tuple1=tuple(my_list)\n",
    "my_tuple1"
   ]
  },
  {
   "cell_type": "code",
   "execution_count": 151,
   "id": "57a2260b",
   "metadata": {},
   "outputs": [],
   "source": [
    "#16. Variables that contain  list values are not necessarily lists themselves. Instead, what do they contain?\n",
    "#Ans: Variables that \"contain\" list values in Python do not actually contain the list itself. Instead, they contain a reference to the list. \n",
    " # This means that the variable stores the memory address or location where the list is stored in the computer's memory.\n",
    "    \n",
    "    \n",
    "    "
   ]
  },
  {
   "cell_type": "code",
   "execution_count": 156,
   "id": "fceb166d",
   "metadata": {},
   "outputs": [],
   "source": [
    "import copy\n",
    "\n",
    "original_list = [1, [2, 3]]\n",
    "normal_copy = copy.copy(original_list)\n",
    "#Shallow copy only creates a copy of the immediate object, not its contents.\n"
   ]
  },
  {
   "cell_type": "code",
   "execution_count": 162,
   "id": "f49752b9",
   "metadata": {},
   "outputs": [
    {
     "data": {
      "text/plain": [
       "[1, [2, 3], 3]"
      ]
     },
     "execution_count": 162,
     "metadata": {},
     "output_type": "execute_result"
    }
   ],
   "source": [
    "\n",
    "original_list = [1, [2, 3]]\n",
    "normal_copy = copy.copy(original_list)\n",
    "normal_copy.append(3)\n",
    "normal_copy"
   ]
  },
  {
   "cell_type": "code",
   "execution_count": 169,
   "id": "824534ec",
   "metadata": {},
   "outputs": [
    {
     "data": {
      "text/plain": [
       "[10, [2, 3], 3]"
      ]
     },
     "execution_count": 169,
     "metadata": {},
     "output_type": "execute_result"
    }
   ],
   "source": [
    "normal_copy[0]=10\n",
    "normal_copy"
   ]
  },
  {
   "cell_type": "code",
   "execution_count": 165,
   "id": "f5c1b624",
   "metadata": {
    "scrolled": true
   },
   "outputs": [
    {
     "data": {
      "text/plain": [
       "[2, 3]"
      ]
     },
     "execution_count": 165,
     "metadata": {},
     "output_type": "execute_result"
    }
   ],
   "source": [
    "normal_copy[1]"
   ]
  },
  {
   "cell_type": "code",
   "execution_count": 173,
   "id": "a07b6049",
   "metadata": {},
   "outputs": [
    {
     "data": {
      "text/plain": [
       "[10, [2, 3], 3]"
      ]
     },
     "execution_count": 173,
     "metadata": {},
     "output_type": "execute_result"
    }
   ],
   "source": [
    "normal_copy"
   ]
  },
  {
   "cell_type": "code",
   "execution_count": 171,
   "id": "f7473da2",
   "metadata": {},
   "outputs": [
    {
     "data": {
      "text/plain": [
       "[2, 3]"
      ]
     },
     "execution_count": 171,
     "metadata": {},
     "output_type": "execute_result"
    }
   ],
   "source": [
    "deep_copy1 = copy.deepcopy(original_list)\n",
    "deep_copy1.append(3)\n",
    "deep_copy1[0]=20\n",
    "deep_copy1[1]"
   ]
  },
  {
   "cell_type": "code",
   "execution_count": 172,
   "id": "9f9951e2",
   "metadata": {},
   "outputs": [
    {
     "data": {
      "text/plain": [
       "[20, [2, 3], 3]"
      ]
     },
     "execution_count": 172,
     "metadata": {},
     "output_type": "execute_result"
    }
   ],
   "source": [
    "deep_copy1"
   ]
  },
  {
   "cell_type": "code",
   "execution_count": null,
   "id": "ce49a044",
   "metadata": {},
   "outputs": [],
   "source": [
    "#copy.copy() creates a shallow copy with shared references to nested objects, while copy.deepcopy() creates a deep copy with independent copies of all objects and nested object"
   ]
  }
 ],
 "metadata": {
  "kernelspec": {
   "display_name": "Python 3 (ipykernel)",
   "language": "python",
   "name": "python3"
  },
  "language_info": {
   "codemirror_mode": {
    "name": "ipython",
    "version": 3
   },
   "file_extension": ".py",
   "mimetype": "text/x-python",
   "name": "python",
   "nbconvert_exporter": "python",
   "pygments_lexer": "ipython3",
   "version": "3.8.13"
  }
 },
 "nbformat": 4,
 "nbformat_minor": 5
}
