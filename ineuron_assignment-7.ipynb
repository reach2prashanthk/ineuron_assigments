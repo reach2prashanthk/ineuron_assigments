{
 "cells": [
  {
   "cell_type": "code",
   "execution_count": null,
   "id": "1706a7e6",
   "metadata": {},
   "outputs": [],
   "source": [
    "#Q.1. Create two int type variables, apply addition, subtraction, division and multiplications\n",
    "and store the results in variables. Then print the data in the following format by calling the\n",
    "variables:\n",
    "    \n",
    "First variable is __ & second variable is __.\n",
    "Addition: __ + __ = __\n",
    "Subtraction: __ - __ = __\n",
    "Multiplication: __ * __ = __\n",
    "Division: __ / __ = __"
   ]
  },
  {
   "cell_type": "code",
   "execution_count": 65,
   "id": "90003cf0",
   "metadata": {},
   "outputs": [
    {
     "name": "stdout",
     "output_type": "stream",
     "text": [
      "first variable is 5 & second veriable is 10\n",
      "Addition: 5 + 10 = 15\n",
      "Subtraction: 5 - 10 = -5\n",
      " Multiplication: 5 * 10 = 50\n",
      " division: 5 / 10 = 0.5\n"
     ]
    }
   ],
   "source": [
    "a=5\n",
    "b=10\n",
    "add_result=a+b\n",
    "sub_result=a-b\n",
    "mul_result=a*b\n",
    "division=a/b\n",
    "\n",
    "print(f\"first variable is {a} & second veriable is {b}\")\n",
    "print(f\"Addition: {a} + {b} = {add_result}\")\n",
    "print(f\"Subtraction: {a} - {b} = {sub_result}\")\n",
    "print(f\" Multiplication: {a} * {b} = {mul_result}\")\n",
    "print(f\" division: {a} / {b} = {division}\")\n"
   ]
  },
  {
   "cell_type": "code",
   "execution_count": null,
   "id": "ab089ef5",
   "metadata": {},
   "outputs": [],
   "source": [
    "#Q.2. What is the difference between the following operators:\n",
    "(i) ‘/’ & ‘//’\n",
    "(ii) ‘**’ & ‘^’\n",
    "Ans: / (Forward Slash): This is the division operator in Python, used to perform regular division between two numbers. It returns a floating-point result, \n",
    "        even if both operands are integers.\n",
    "    // (Double Forward Slash): This is the floor division operator in Python, \n",
    "        used to perform division that truncates the decimal part of the result and returns an integer.\n",
    "        \n",
    "    ** (Double Asterisk): This is the exponentiation operator in Python, used to calculate the power of a number.\n",
    "        It raises the left operand to the power of the right operand\n",
    "        \n",
    "    ^ (Caret or XOR Operator): This is the bitwise XOR operator in Python. \n",
    "            It performs a bitwise XOR operation on the binary representations of the operands.\n",
    "            \n",
    "            \n",
    "\n"
   ]
  },
  {
   "cell_type": "code",
   "execution_count": 66,
   "id": "828e2351",
   "metadata": {},
   "outputs": [],
   "source": [
    "#Q.3. List the logical operators.\n",
    "and: The and operator returns True if both operands are True, otherwise, it returns False.\n",
    "\n",
    "or: The or operator returns True if at least one of the operands is True, otherwise, it returns False.\n",
    "\n",
    "not: The not operator is a unary operator that negates the Boolean value of its operand. If the operand is True, it returns False, and if the operand is False, it returns True."
   ]
  },
  {
   "cell_type": "code",
   "execution_count": null,
   "id": "ca10e316",
   "metadata": {},
   "outputs": [],
   "source": [
    "Q.4. Explain right shift operator and left shift operator with examples.\n",
    "\n",
    "Ans: Right Shift Operator (>>):\n",
    "The right shift operator shifts the bits of an integer to the right by a specified number of positions.\n"
   ]
  },
  {
   "cell_type": "code",
   "execution_count": 67,
   "id": "e7ef03e4",
   "metadata": {},
   "outputs": [
    {
     "name": "stdout",
     "output_type": "stream",
     "text": [
      "3\n"
     ]
    }
   ],
   "source": [
    "num = 12   # Binary representation: 00001100\n",
    "result = num >> 2\n",
    "print(result) "
   ]
  },
  {
   "cell_type": "code",
   "execution_count": null,
   "id": "405f05c2",
   "metadata": {},
   "outputs": [],
   "source": [
    "Left Shift Operator (<<):\n",
    "The left shift operator shifts the bits of an integer to the left by a specified number of positions. "
   ]
  },
  {
   "cell_type": "code",
   "execution_count": 68,
   "id": "82a82e7e",
   "metadata": {},
   "outputs": [
    {
     "name": "stdout",
     "output_type": "stream",
     "text": [
      "40\n"
     ]
    }
   ],
   "source": [
    "num = 5    # Binary representation: 00000101\n",
    "result = num << 3\n",
    "print(result) "
   ]
  },
  {
   "cell_type": "code",
   "execution_count": null,
   "id": "90870ded",
   "metadata": {},
   "outputs": [],
   "source": [
    "Q.5. Create a list containing int type data of length 15. Then write a code to check if 10 is\n",
    "present in the list or not."
   ]
  },
  {
   "cell_type": "code",
   "execution_count": 69,
   "id": "1a31590d",
   "metadata": {},
   "outputs": [
    {
     "name": "stdout",
     "output_type": "stream",
     "text": [
      "10 is present in the list.\n"
     ]
    }
   ],
   "source": [
    "my_list = [5, 7, 10, 15, 20, 25, 30, 35, 40, 45, 50, 55, 60, 65, 70]\n",
    "\n",
    "# Check if 10 is present in the list\n",
    "if 10 in my_list:\n",
    "    print(\"10 is present in the list.\")\n",
    "else:\n",
    "    print(\"10 is not present in the list.\")\n"
   ]
  }
 ],
 "metadata": {
  "kernelspec": {
   "display_name": "Python 3 (ipykernel)",
   "language": "python",
   "name": "python3"
  },
  "language_info": {
   "codemirror_mode": {
    "name": "ipython",
    "version": 3
   },
   "file_extension": ".py",
   "mimetype": "text/x-python",
   "name": "python",
   "nbconvert_exporter": "python",
   "pygments_lexer": "ipython3",
   "version": "3.8.0"
  }
 },
 "nbformat": 4,
 "nbformat_minor": 5
}
