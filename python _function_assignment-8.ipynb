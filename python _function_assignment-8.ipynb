{
 "cells": [
  {
   "cell_type": "code",
   "execution_count": null,
   "id": "23890350",
   "metadata": {},
   "outputs": [],
   "source": [
    "#1. In Python, what is the difference between a built-in function and a user-defined function? Provide an\n",
    "example of each.\n",
    "\n",
    "\n",
    "Built-in Function:\n",
    "In Python, a built-in function is a function that is pre-defined in the Python Standard Library \n",
    "and is readily available for use\n",
    "\n",
    "Ex: print(), len(), input(), max(), min(), abs(), range()\n",
    "    "
   ]
  },
  {
   "cell_type": "code",
   "execution_count": 70,
   "id": "9c3c69ae",
   "metadata": {},
   "outputs": [
    {
     "name": "stdout",
     "output_type": "stream",
     "text": [
      "Hello, this is a built-in function!\n"
     ]
    }
   ],
   "source": [
    "# Using the print() function to display a message\n",
    "print(\"Hello, this is a built-in function!\")"
   ]
  },
  {
   "cell_type": "code",
   "execution_count": null,
   "id": "dceaca9b",
   "metadata": {},
   "outputs": [],
   "source": [
    "User-defined Function:\n",
    "A user-defined function is a function created by the user to perform specific tasks that are not \n",
    "covered by the built-in functions\n",
    "\n"
   ]
  },
  {
   "cell_type": "code",
   "execution_count": 73,
   "id": "d734b55c",
   "metadata": {},
   "outputs": [
    {
     "data": {
      "text/plain": [
       "15"
      ]
     },
     "execution_count": 73,
     "metadata": {},
     "output_type": "execute_result"
    }
   ],
   "source": [
    "def add_numbers(a, b):\n",
    "    return a + b\n",
    "\n",
    "# Calling the user-defined function\n",
    "result = add_numbers(5, 10)\n",
    "result"
   ]
  },
  {
   "cell_type": "code",
   "execution_count": null,
   "id": "5a387225",
   "metadata": {},
   "outputs": [],
   "source": [
    "2. How can you pass arguments to a function in Python? Explain the difference between positional\n",
    "arguments and keyword arguments.\n",
    "\n",
    "Ans: Positional Arguments:\n",
    " the arguments are matched based on their position in the function call. The first argument in the call is assigned to the first parameter in the function definition, \n",
    "the second argument to the second parameter, and so on."
   ]
  },
  {
   "cell_type": "code",
   "execution_count": 74,
   "id": "3f625dff",
   "metadata": {},
   "outputs": [
    {
     "name": "stdout",
     "output_type": "stream",
     "text": [
      "15\n"
     ]
    }
   ],
   "source": [
    "#ex\n",
    "def add(a, b):\n",
    "    return a + b\n",
    "\n",
    "result = add(5, 10)\n",
    "print(result)  # Output: 15  #we dont need to mention keywords as function call itself takes the varianles based on position"
   ]
  },
  {
   "cell_type": "code",
   "execution_count": null,
   "id": "952ec2b0",
   "metadata": {},
   "outputs": [],
   "source": [
    "Ans: Keyword Arguments:\n",
    "Keyword arguments allow you to specify the argument name along with its value when calling a function"
   ]
  },
  {
   "cell_type": "code",
   "execution_count": 80,
   "id": "747b11ae",
   "metadata": {},
   "outputs": [
    {
     "name": "stdout",
     "output_type": "stream",
     "text": [
      "-10\n"
     ]
    }
   ],
   "source": [
    "def subtract(a,b):\n",
    "    return a-b\n",
    "    \n",
    "result=subtract(a=10,b=20)  #we've specifically mentionedc our variables to keywords\n",
    "print(result)"
   ]
  },
  {
   "cell_type": "code",
   "execution_count": null,
   "id": "800cdd69",
   "metadata": {},
   "outputs": [],
   "source": [
    "#Difference between Positional Arguments and Keyword Arguments:\n",
    "\n",
    "Order of Arguments:\n",
    "\n",
    "Positional Arguments: The order of the arguments matters, and they are assigned to parameters based on their position\n",
    "    in the function call.but in keyword arguments position of variables doesnt matter\n",
    "    \n",
    "Readability:\n",
    "\n",
    "Keyword Arguments: Using keyword arguments can improve code readability, especially when a function\n",
    "    has many parameters, and you want to make the function call more explicit.\n",
    "    "
   ]
  },
  {
   "cell_type": "code",
   "execution_count": null,
   "id": "573ad722",
   "metadata": {},
   "outputs": [],
   "source": [
    "3. What is the purpose of the return statement in a function? Can a function have multiple return\n",
    "statements? Explain with an example.\n",
    "\n",
    "Ans: When a function is called and the return statement is executed, the function's execution is halted, \n",
    "and the specified value is returned to the caller. and yes we can use multiple return statements in a function\n",
    "\n"
   ]
  },
  {
   "cell_type": "code",
   "execution_count": 81,
   "id": "6ebae082",
   "metadata": {},
   "outputs": [
    {
     "name": "stdout",
     "output_type": "stream",
     "text": [
      "cant be divided by 0\n",
      "0.5\n"
     ]
    }
   ],
   "source": [
    "def divide_num(a,b):\n",
    "    if b==0:\n",
    "        return ('cant be divided by 0')\n",
    "    else:\n",
    "        return a/b\n",
    "result1=divide_num(10,0)\n",
    "print(result1)\n",
    "result2=divide_num(10,20)\n",
    "print(result2)\n",
    "\n"
   ]
  },
  {
   "cell_type": "code",
   "execution_count": null,
   "id": "7e5ec345",
   "metadata": {},
   "outputs": [],
   "source": [
    "4. What are lambda functions in Python? How are they different from regular functions? Provide an\n",
    "example where a lambda function can be useful."
   ]
  },
  {
   "cell_type": "code",
   "execution_count": 85,
   "id": "0bbcbd9e",
   "metadata": {},
   "outputs": [],
   "source": [
    "Ans: Lambda functions in Python are small, anonymous functions that can have any number of arguments\n",
    "    but can only have one expression"
   ]
  },
  {
   "cell_type": "code",
   "execution_count": 87,
   "id": "b051f5d8",
   "metadata": {},
   "outputs": [
    {
     "name": "stdout",
     "output_type": "stream",
     "text": [
      "15\n"
     ]
    }
   ],
   "source": [
    "#ex: # Lambda function to add two numbers\n",
    "add = lambda x, y: x + y\n",
    "\n",
    "# Using the lambda function\n",
    "result = add(5, 10)\n",
    "print(result)  # Output: 15\n",
    "#Both the lambda function and the regular function have the same functionality, \n",
    "but the lambda function is more concise and can be useful \n",
    "in situations where you need a simple function for a short operation "
   ]
  },
  {
   "cell_type": "code",
   "execution_count": null,
   "id": "6b1c5b6c",
   "metadata": {},
   "outputs": [],
   "source": [
    "5. How does the concept of \"scope\" apply to functions in Python? Explain the difference between local\n",
    "scope and global scope."
   ]
  },
  {
   "cell_type": "code",
   "execution_count": null,
   "id": "511affe8",
   "metadata": {},
   "outputs": [],
   "source": [
    "Ans: he concept of \"scope\" refers to the region of the program where a variable or name is accessible.\n",
    "    The scope of a variable determines where it can be used or referenced within the code."
   ]
  },
  {
   "cell_type": "code",
   "execution_count": null,
   "id": "e5c70893",
   "metadata": {},
   "outputs": [],
   "source": [
    "Local Scope:\n",
    "Variables defined inside a function have a local scope. It means that these variables are only accessible within the function in which they are defined."
   ]
  },
  {
   "cell_type": "code",
   "execution_count": 88,
   "id": "8f386b66",
   "metadata": {},
   "outputs": [
    {
     "name": "stdout",
     "output_type": "stream",
     "text": [
      "10\n"
     ]
    }
   ],
   "source": [
    "def my_function():\n",
    "    x = 10  # This is a local variable with scope limited to my_function\n",
    "    print(x)\n",
    "\n",
    "my_function()\n",
    "# print(x)  # This line will raise an error because 'x' is not defined in the global scope\n"
   ]
  },
  {
   "cell_type": "code",
   "execution_count": null,
   "id": "bd4d0325",
   "metadata": {},
   "outputs": [],
   "source": [
    "Global Scope:\n",
    "Variables defined outside any function or at the top level of the module have a global scope. Global variables can be accessed from any part of the code,\n",
    "including inside functions"
   ]
  },
  {
   "cell_type": "code",
   "execution_count": 89,
   "id": "1d52456a",
   "metadata": {},
   "outputs": [
    {
     "name": "stdout",
     "output_type": "stream",
     "text": [
      "10\n"
     ]
    }
   ],
   "source": [
    "x=10\n",
    "def my_func():\n",
    "    print(x)\n",
    "    \n",
    "my_func()"
   ]
  },
  {
   "cell_type": "code",
   "execution_count": 96,
   "id": "1e2797dd",
   "metadata": {},
   "outputs": [
    {
     "name": "stdout",
     "output_type": "stream",
     "text": [
      "Object `values` not found.\n",
      "10\n",
      "20\n",
      "30\n"
     ]
    }
   ],
   "source": [
    "6. How can you use the \"return\" statement in a Python function to return multiple values?\n",
    "\n",
    "Ans: In Python, you can use the return statement in a function to return multiple values by simply \n",
    "separating the values with commas.\n",
    "\n",
    "def get_values():\n",
    "    \n",
    "    a=10\n",
    "    b=20\n",
    "    c=30\n",
    "    return a,b,c\n",
    "result=get_values()\n",
    "print(result[0])\n",
    "print(result[1])\n",
    "print(result[2])"
   ]
  },
  {
   "cell_type": "code",
   "execution_count": null,
   "id": "44cfc227",
   "metadata": {},
   "outputs": [],
   "source": []
  },
  {
   "cell_type": "code",
   "execution_count": 106,
   "id": "e6193640",
   "metadata": {},
   "outputs": [],
   "source": [
    "#7. What is the difference between the \"pass by value\" and \"pass by reference\" concepts when it comes to function arguments in Python?\n",
    "\n",
    "\n",
    "#Ans: # Any changes made to the argument inside the function do not affect the original variable outside the function. \n",
    "#In this approach, the function receives a new copy of the data, and the original data remains unchanged.\n",
    "\n",
    "x = 5\n",
    "\n",
    "def modify_number(num):\n",
    "    num += 10\n",
    "\n",
    "modify_number(5)\n",
    "print(x)  # Output: 5 (The original variable 'x' remains unchanged)\n",
    "x"
   ]
  },
  {
   "cell_type": "code",
   "execution_count": 100,
   "id": "8aa18ad1",
   "metadata": {},
   "outputs": [
    {
     "name": "stdout",
     "output_type": "stream",
     "text": [
      "[1, 2, 3, 4]\n"
     ]
    }
   ],
   "source": [
    "#Example of Pass by Reference (for mutable objects):\n",
    "\n",
    "def modify_list(my_list):\n",
    "    my_list.append(4)\n",
    "\n",
    "my_list = [1, 2, 3]\n",
    "modify_list(my_list)\n",
    "print(my_list)  # Output: [1, 2, 3, 4] (The original list is modified)\n"
   ]
  },
  {
   "cell_type": "code",
   "execution_count": null,
   "id": "03853980",
   "metadata": {},
   "outputs": [],
   "source": [
    "8. Create a function that can intake integer or decimal value and do following operations:\n",
    "a. Logarithmic function (log x)\n",
    "b. Exponential function (exp(x))\n",
    "c. Power function with base 2 (2x)\n",
    "\n",
    "d. Square root"
   ]
  },
  {
   "cell_type": "code",
   "execution_count": 107,
   "id": "bfa8dfbb",
   "metadata": {},
   "outputs": [],
   "source": [
    "import math"
   ]
  },
  {
   "cell_type": "code",
   "execution_count": 128,
   "id": "efefe596",
   "metadata": {},
   "outputs": [
    {
     "name": "stdout",
     "output_type": "stream",
     "text": [
      "log_result of 5 is  4.605170185988092\n",
      "exp_result of 5 is  2.6881171418161356e+43\n",
      "pow_result of 5 is  1.2676506002282294e+30\n",
      "sq_result of 5 is  10.0\n"
     ]
    }
   ],
   "source": [
    "def math_operstion(x):\n",
    "    log_result=math.log(x)\n",
    "    exp_result=math.exp(x)\n",
    "    pow_result=math.pow(2,x)\n",
    "    sq_result=math.sqrt(x)\n",
    "    return log_result,exp_result,pow_result,sq_result\n",
    "result=math_operstion(100)\n",
    "print( f'log_result of {x} is ',result[0])\n",
    "print( f'exp_result of {x} is ',result[1])\n",
    "print( f'pow_result of {x} is ',result[2])\n",
    "print( f'sq_result of {x} is ',result[3])"
   ]
  },
  {
   "cell_type": "code",
   "execution_count": 136,
   "id": "b397aea2",
   "metadata": {},
   "outputs": [
    {
     "name": "stdout",
     "output_type": "stream",
     "text": [
      "prashanth kumar\n"
     ]
    }
   ],
   "source": [
    "#9. Create a function that takes a full name as an argument and returns first name and last name.\n",
    "\n",
    "def my_func_name(name):\n",
    "    \n",
    "    result=name.split()\n",
    "    firstname=result[0]\n",
    "    lastname=result[-1]\n",
    "    return firstname,lastname\n",
    "\n",
    "name='prashanth kumar'\n",
    "firstname,lastname=my_func_name(name)\n",
    "print(firstname,lastname)"
   ]
  }
 ],
 "metadata": {
  "kernelspec": {
   "display_name": "Python 3 (ipykernel)",
   "language": "python",
   "name": "python3"
  },
  "language_info": {
   "codemirror_mode": {
    "name": "ipython",
    "version": 3
   },
   "file_extension": ".py",
   "mimetype": "text/x-python",
   "name": "python",
   "nbconvert_exporter": "python",
   "pygments_lexer": "ipython3",
   "version": "3.8.0"
  }
 },
 "nbformat": 4,
 "nbformat_minor": 5
}
